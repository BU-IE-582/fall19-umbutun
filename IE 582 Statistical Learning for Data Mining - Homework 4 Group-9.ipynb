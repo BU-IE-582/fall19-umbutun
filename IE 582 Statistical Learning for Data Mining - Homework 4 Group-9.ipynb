{
 "cells": [
  {
   "cell_type": "markdown",
   "metadata": {},
   "source": [
    "<font size=\"6\">**IE 582 Statistical Learning for Data Mining - Homework 4**</font>"
   ]
  },
  {
   "cell_type": "markdown",
   "metadata": {},
   "source": [
    "<font size=\"4\">Mine Gazioğlu - Negin Kazemi - Umut Bütün</font>"
   ]
  },
  {
   "cell_type": "markdown",
   "metadata": {},
   "source": [
    "---"
   ]
  },
  {
   "cell_type": "markdown",
   "metadata": {},
   "source": [
    "# Data Preprocessing"
   ]
  },
  {
   "cell_type": "markdown",
   "metadata": {},
   "source": [
    "**Import Libraries**"
   ]
  },
  {
   "cell_type": "code",
   "execution_count": 30,
   "metadata": {},
   "outputs": [],
   "source": [
    "# Importing necessary libraries\n",
    "\n",
    "import pandas as pd # data processing, CSV file I/O (e.g. pd.read_csv)\n",
    "import numpy as np # linear algebra\n",
    "import matplotlib.pyplot as plt # visualization\n",
    "import matplotlib.pylab as plb # visualization\n",
    "import seaborn as sns # visualization\n",
    "#####from tqdm import tqdm_notebook as tqdm #to see a progress bar\n",
    "import warnings # ignore deprecation warnings etc.\n",
    "warnings.filterwarnings(\"ignore\")\n",
    "import time # dealing with time data\n",
    "from datetime import datetime, timedelta # dealing with time data\n",
    "import datetime as dt #datetime conversions and manipulations\n",
    "from sklearn.linear_model import LogisticRegression"
   ]
  },
  {
   "cell_type": "markdown",
   "metadata": {},
   "source": [
    "**Load Data**"
   ]
  },
  {
   "cell_type": "code",
   "execution_count": 31,
   "metadata": {},
   "outputs": [],
   "source": [
    "# Load data with pandas\n",
    "\n",
    "goals = pd.read_csv(r\"C:\\Users\\ubtn\\Desktop\\IE-05\\Data Mining\\HW1\\Data\\goals.csv\")\n",
    "stats = pd.read_csv(r\"C:\\Users\\ubtn\\Desktop\\IE-05\\Data Mining\\HW1\\Data\\stats.csv\")\n",
    "matches = pd.read_csv(r\"C:\\Users\\ubtn\\Desktop\\IE-05\\Data Mining\\HW1\\Data\\matches.csv\")\n",
    "booking = pd.read_csv(r\"C:\\Users\\ubtn\\Desktop\\IE-05\\Data Mining\\HW1\\Data\\booking.csv\")\n",
    "bets = pd.read_csv(r\"C:\\Users\\ubtn\\Desktop\\IE-05\\Data Mining\\HW1\\Data\\bets.csv\")"
   ]
  },
  {
   "cell_type": "markdown",
   "metadata": {},
   "source": [
    "**Filter English Premier League Games**"
   ]
  },
  {
   "cell_type": "code",
   "execution_count": 32,
   "metadata": {},
   "outputs": [],
   "source": [
    "# Filter English Premier League Games Alone\n",
    "matches = matches[matches[\"league_id\"] == 148]"
   ]
  },
  {
   "cell_type": "markdown",
   "metadata": {},
   "source": [
    "**Convert epoch column in matches dataframe to datetime format**"
   ]
  },
  {
   "cell_type": "code",
   "execution_count": 33,
   "metadata": {},
   "outputs": [],
   "source": [
    "# Convert epoch column to datetime format\n",
    "start = datetime(1970, 1, 1)  # Unix epoch start time\n",
    "matches['datetime'] = matches.epoch.apply(lambda x: start + timedelta(seconds=x))\n",
    "# Drop epoch\n",
    "matches.drop(\"epoch\",axis = 1, inplace = True)\n",
    "\n",
    "# Split datetime column to date and time columns\n",
    "matches['Date'] = matches['datetime'].dt.strftime('%d/%m/%Y')\n",
    "matches['Time'] = matches['datetime'].dt.strftime('%H:%M:%S')"
   ]
  },
  {
   "cell_type": "markdown",
   "metadata": {},
   "source": [
    "**Remove the matches that haven't been played yet**"
   ]
  },
  {
   "cell_type": "code",
   "execution_count": 34,
   "metadata": {},
   "outputs": [],
   "source": [
    "# Where home_score is NA\n",
    "matches = matches[~matches[\"match_hometeam_score\"].isna()]"
   ]
  },
  {
   "cell_type": "markdown",
   "metadata": {},
   "source": [
    "**Rename some columns for convenience**"
   ]
  },
  {
   "cell_type": "code",
   "execution_count": 35,
   "metadata": {},
   "outputs": [],
   "source": [
    "# Rename match_hometeam_score & match_awayteam_score to home_score & awayscore\n",
    "matches.rename(columns = {\"match_hometeam_score\":\"home_score\",\"match_awayteam_score\":\"away_score\"},inplace = True)"
   ]
  },
  {
   "cell_type": "markdown",
   "metadata": {},
   "source": [
    "---"
   ]
  },
  {
   "cell_type": "markdown",
   "metadata": {},
   "source": [
    "# Feature Engineering"
   ]
  },
  {
   "cell_type": "markdown",
   "metadata": {},
   "source": [
    "**-** In this part we will create new features from combinations of columns we have<br>\n",
    "**-** We have 2 tasks classification and regression<br>\n",
    "**-** Some features we create will serve better for one of these tasks"
   ]
  },
  {
   "cell_type": "markdown",
   "metadata": {},
   "source": [
    "**Create a Match Result Column that shows whether the game ended in draw, home win or away win**"
   ]
  },
  {
   "cell_type": "markdown",
   "metadata": {},
   "source": [
    "We will not use this column as a feature but rather as a column to help build new features"
   ]
  },
  {
   "cell_type": "code",
   "execution_count": 36,
   "metadata": {},
   "outputs": [
    {
     "data": {
      "text/html": [
       "<div>\n",
       "<style scoped>\n",
       "    .dataframe tbody tr th:only-of-type {\n",
       "        vertical-align: middle;\n",
       "    }\n",
       "\n",
       "    .dataframe tbody tr th {\n",
       "        vertical-align: top;\n",
       "    }\n",
       "\n",
       "    .dataframe thead th {\n",
       "        text-align: right;\n",
       "    }\n",
       "</style>\n",
       "<table border=\"1\" class=\"dataframe\">\n",
       "  <thead>\n",
       "    <tr style=\"text-align: right;\">\n",
       "      <th></th>\n",
       "      <th>match_result</th>\n",
       "    </tr>\n",
       "  </thead>\n",
       "  <tbody>\n",
       "    <tr>\n",
       "      <th>0</th>\n",
       "      <td>Away</td>\n",
       "    </tr>\n",
       "    <tr>\n",
       "      <th>1</th>\n",
       "      <td>Away</td>\n",
       "    </tr>\n",
       "    <tr>\n",
       "      <th>2</th>\n",
       "      <td>Draw</td>\n",
       "    </tr>\n",
       "    <tr>\n",
       "      <th>3</th>\n",
       "      <td>Away</td>\n",
       "    </tr>\n",
       "    <tr>\n",
       "      <th>4</th>\n",
       "      <td>Draw</td>\n",
       "    </tr>\n",
       "  </tbody>\n",
       "</table>\n",
       "</div>"
      ],
      "text/plain": [
       "  match_result\n",
       "0         Away\n",
       "1         Away\n",
       "2         Draw\n",
       "3         Away\n",
       "4         Draw"
      ]
     },
     "metadata": {},
     "output_type": "display_data"
    }
   ],
   "source": [
    "# Create match result columns \n",
    "matches[\"match_result\"] = np.where(matches['home_score'] == \"not_played_h\",\"Not Played\",\n",
    "                          np.where(matches['home_score'] > matches['away_score'],\"Home\", \n",
    "                          np.where(matches['home_score'] == matches['away_score'],\"Draw\",\"Away\")))\n",
    "# reset index\n",
    "matches = matches.reset_index(drop = True)\n",
    "# Show first 5 rows of the column\n",
    "display(matches[[\"match_result\"]].head())"
   ]
  },
  {
   "cell_type": "markdown",
   "metadata": {},
   "source": [
    "<font size=\"3\">**New Features**</font>"
   ]
  },
  {
   "cell_type": "markdown",
   "metadata": {},
   "source": [
    "**1. Average number of goals for home team and away team in last 3 games**"
   ]
  },
  {
   "cell_type": "markdown",
   "metadata": {},
   "source": [
    "Take the average of number of goals scored by home team and away team consecutively to yield 2 new columns as features"
   ]
  },
  {
   "cell_type": "code",
   "execution_count": 37,
   "metadata": {},
   "outputs": [],
   "source": [
    "# Average number of goals for home team in last 3 games\n",
    "matches[\"matches_3_average_home\"] =  matches.groupby(\"match_hometeam_id\")[\"home_score\"].rolling(3,min_periods = 0).mean().reset_index(level=0, drop=True)\n",
    "# Average number of goals for away team in last 3 games\n",
    "matches[\"matches_3_average_away\"] =  matches.groupby(\"match_awayteam_id\")[\"away_score\"].rolling(3,min_periods = 0).mean().reset_index(level=0, drop=True)"
   ]
  },
  {
   "cell_type": "markdown",
   "metadata": {},
   "source": [
    "**2. Team average goals in last 5 games**"
   ]
  },
  {
   "cell_type": "markdown",
   "metadata": {},
   "source": [
    "**-** Find average goals for the last 5 games for each team <br>\n",
    "**-** The difference from above feature is team average scores for last 5 games are considered disregarding that the team played as home team or away team <br>\n",
    "**-** Yields 2 columns for away and home teams as well"
   ]
  },
  {
   "cell_type": "code",
   "execution_count": 38,
   "metadata": {},
   "outputs": [],
   "source": [
    "# Find average goals for the last 5 games for each team\n",
    "\n",
    "# Filter matches dataframe to extract the necessary columns\n",
    "team_average_goals_5_games = matches[[\"match_id\",\"datetime\",\"match_hometeam_id\",\"home_score\",\"match_awayteam_id\",\"away_score\"]]\n",
    "\n",
    "# Melt this dataframe 2 times first to melt scores and second to melt team ids\n",
    "# Melt scores\n",
    "team_average_goals_5_games_melted_score = pd.melt(team_average_goals_5_games, id_vars=['datetime',\"match_id\",\"match_hometeam_id\",\"match_awayteam_id\"], value_vars = [\"home_score\",\"away_score\"],var_name='Var1', value_name='Var1_value')\n",
    "# Melt ids\n",
    "team_average_goals_5_games_melted__teamid = pd.melt(team_average_goals_5_games, id_vars=['datetime',\"match_id\",\"home_score\",\"away_score\"], value_vars = [\"match_hometeam_id\",\"match_awayteam_id\"],var_name='Var2', value_name='Var2_value')\n",
    "\n",
    "# Merge the dataframes displayed above\n",
    "melted = team_average_goals_5_games_melted_score.merge(team_average_goals_5_games_melted__teamid, on =\"match_id\")\n",
    "melted = melted[[\"datetime_x\",\"match_id\",\"Var1\",\"Var1_value\",\"Var2\",\"Var2_value\"]]\n",
    "\n",
    "# Drop values that are duplicated but not needed\n",
    "melted =(melted[~((melted[\"Var2\"] == \"match_hometeam_id\") & (melted[\"Var1\"] == \"away_score\"))])\n",
    "melted =(melted[~((melted[\"Var2\"] == \"match_awayteam_id\") & (melted[\"Var1\"] == \"home_score\"))])\n",
    "\n",
    "# Sort values by datetime and team ids\n",
    "melted = melted.sort_values([\"Var2_value\",\"datetime_x\"])\n",
    "\n",
    "# Perform rolling average \n",
    "melted[\"total_avg_goals\"] =  melted.groupby(\"Var2_value\")[\"Var1_value\"].rolling(5,min_periods = 1).mean().reset_index(level=0, drop=True)\n",
    "# Pivot the values\n",
    "melted_pivot = melted.pivot(columns = \"Var1\",values=\"total_avg_goals\" , index = \"match_id\")\n",
    "melted_pivot.columns = [\"team_avg_5_away_score\",\"team_avg_5_away_home_score\"]\n",
    "\n",
    "matches = matches.merge(melted_pivot, on = \"match_id\")"
   ]
  },
  {
   "cell_type": "markdown",
   "metadata": {},
   "source": [
    "**3. Total points in the last 3 games**"
   ]
  },
  {
   "cell_type": "markdown",
   "metadata": {},
   "source": [
    "**-** For a match home team gets 3 points if wins, 1 points if draw, 0 points if loses and same goes for away team<br>\n",
    "**-** This feature does not consider the number of goals but considers the outcome\n",
    "**-** Yields 2 columns for home and away teams"
   ]
  },
  {
   "cell_type": "code",
   "execution_count": 39,
   "metadata": {},
   "outputs": [],
   "source": [
    "# Create a column showing points for teams(win:3,loss:0,draw:1)\n",
    "matches[\"home_points\"] = matches[\"match_result\"].apply(lambda x: 3 if x == \"Home\" else (1 if x== \"Draw\" else 0))\n",
    "matches[\"away_points\"] = matches[\"match_result\"].apply(lambda x: 3 if x == \"Away\" else (1 if x== \"Draw\" else 0))\n",
    "\n",
    "# Filter matches dataframe to extract the necessary columns\n",
    "team_average_points_3_games = matches[[\"match_id\",\"datetime\",\"match_hometeam_id\",\"match_awayteam_id\",\"home_points\",\"away_points\"]]\n",
    "\n",
    "# Melt this dataframe 2 times first 2 melt scores and second to melt team ids\n",
    "# Melt scores\n",
    "team_average_points_3_games_points = pd.melt(team_average_points_3_games, id_vars=['datetime',\"match_id\",\"match_hometeam_id\",\"match_awayteam_id\"], value_vars = [\"home_points\",\"away_points\"],var_name='Var1', value_name='Var1_value')\n",
    "# Melt ids\n",
    "team_average_points_3_games_ids = pd.melt(team_average_points_3_games, id_vars=['datetime',\"match_id\",\"home_points\",\"away_points\"], value_vars = [\"match_hometeam_id\",\"match_awayteam_id\"],var_name='Var2', value_name='Var2_value')\n",
    "\n",
    "# Merge the dataframes displayed above\n",
    "melted = team_average_points_3_games_points.merge(team_average_points_3_games_ids, on =\"match_id\")\n",
    "melted = melted[[\"datetime_x\",\"match_id\",\"Var1\",\"Var1_value\",\"Var2\",\"Var2_value\"]]\n",
    "\n",
    "# Drop values that are duplicated but not needed\n",
    "melted =(melted[~((melted[\"Var2\"] == \"match_hometeam_id\") & (melted[\"Var1\"] == \"away_points\"))])\n",
    "melted =(melted[~((melted[\"Var2\"] == \"match_awayteam_id\") & (melted[\"Var1\"] == \"home_points\"))])\n",
    "# Sort values by datetime and team ids\n",
    "melted = melted.sort_values([\"Var2_value\",\"datetime_x\"])\n",
    "\n",
    "# Perform rolling average \n",
    "melted[\"total_avg_points\"] =  melted.groupby(\"Var2_value\")[\"Var1_value\"].rolling(3,min_periods = 1).mean().reset_index(level=0, drop=True)\n",
    "# Pivot the values\n",
    "melted_pivot = melted.pivot(columns = \"Var1\",values=\"total_avg_points\" , index = \"match_id\")\n",
    "melted_pivot.columns = [\"team_avg_3_away_points\",\"team_avg_3_away_home_points\"]\n",
    "\n",
    "matches = matches.merge(melted_pivot, on = \"match_id\")"
   ]
  },
  {
   "cell_type": "markdown",
   "metadata": {},
   "source": [
    "**4. Total Points in a season for a team**"
   ]
  },
  {
   "cell_type": "markdown",
   "metadata": {},
   "source": [
    "**-** Calculates based on English Premier League Seasons<br>\n",
    "**-** Currently the data includes 2 seasons not containing all the games from both seasons<br>\n",
    "**-** We will name these 2 seasons last season and this season<br>\n",
    "**-** This will demonstrate the final points at the end of each season for each team.<br>\n",
    "\n",
    "_Note that points may be more than English Premier League points in reality as the matches data \n",
    "includes additional matches such as Football League Cup as if it was Premier League._"
   ]
  },
  {
   "cell_type": "markdown",
   "metadata": {},
   "source": [
    "Seperate Last Season's and This Season's Games"
   ]
  },
  {
   "cell_type": "code",
   "execution_count": 40,
   "metadata": {},
   "outputs": [],
   "source": [
    "# Last season end date\n",
    "last_season_end = \"2019-08-08 23:00:00\"\n",
    "# Split current matches dataframe into last season and this season\n",
    "# Last Season\n",
    "last_season_df = matches[matches[\"datetime\"] < last_season_end]\n",
    "# This season\n",
    "this_season_df =  matches[matches[\"datetime\"] > last_season_end]"
   ]
  },
  {
   "cell_type": "markdown",
   "metadata": {},
   "source": [
    "Point Calculation for Last Season"
   ]
  },
  {
   "cell_type": "code",
   "execution_count": 41,
   "metadata": {},
   "outputs": [],
   "source": [
    "# Calculate last seasons's point for home and away teams(If win 3 points lose 0 points and draw 1 points)\n",
    "# Home\n",
    "last_season_df[\"Home_Point\"] = last_season_df.match_result.apply(lambda x: 3 if x == \"Home\" else (1 if x== \"Draw\" else 0))\n",
    "# Away\n",
    "last_season_df[\"Away_Point\"] = last_season_df.match_result.apply(lambda x: 3 if x == \"Away\" else (1 if x== \"Draw\" else 0))\n",
    "# Create a dictionary that keeps point for team on home teams\n",
    "home_dict = last_season_df.groupby(\"match_hometeam_id\").sum()[[\"Home_Point\"]].to_dict()\n",
    "home_dict_last = home_dict[\"Home_Point\"]\n",
    "# Create a dictionary that keeps point for team on away teams\n",
    "away_dict = last_season_df.groupby(\"match_awayteam_id\").sum()[[\"Away_Point\"]].to_dict()\n",
    "away_dict_last = away_dict[\"Away_Point\"]\n",
    "\n",
    "# Then sum these dictionaries by their key(keys are id's of teams)\n",
    "# This way we summed up home and away team points if the ids are the same\n",
    "from collections import Counter \n",
    "total_dict_last = Counter(home_dict_last) + Counter(away_dict_last) "
   ]
  },
  {
   "cell_type": "markdown",
   "metadata": {},
   "source": [
    "Point Calculation for This Season"
   ]
  },
  {
   "cell_type": "code",
   "execution_count": 42,
   "metadata": {},
   "outputs": [],
   "source": [
    "# Calculate this seasons's point for home and away teams(If win 3 points lose 0 points and draw 1 points)\n",
    "# Home\n",
    "this_season_df[\"Home_Point\"] = this_season_df.match_result.apply(lambda x: 3 if x == \"Home\" else (1 if x== \"Draw\" else 0))\n",
    "# Away\n",
    "this_season_df[\"Away_Point\"] = this_season_df.match_result.apply(lambda x: 3 if x == \"Away\" else (1 if x== \"Draw\" else 0))\n",
    "# Create a dictionary that keeps point for team on home teams\n",
    "home_dict = this_season_df.groupby(\"match_hometeam_id\").sum()[[\"Home_Point\"]].to_dict()\n",
    "home_dict_this = home_dict[\"Home_Point\"]\n",
    "# Create a dictionary that keeps point for team on away teams\n",
    "away_dict = this_season_df.groupby(\"match_awayteam_id\").sum()[[\"Away_Point\"]].to_dict()\n",
    "away_dict_this = away_dict[\"Away_Point\"]\n",
    "# Then sum these dictionaries by their key(keys are id's of teams)\n",
    "# This way we summed up home and away team points if the ids are the same\n",
    "from collections import Counter \n",
    "total_dict_this = Counter(home_dict_this) + Counter(away_dict_this) "
   ]
  },
  {
   "cell_type": "code",
   "execution_count": 43,
   "metadata": {},
   "outputs": [],
   "source": [
    "# Add old and new season point totals as features\n",
    "matches[\"old_season_points_home\"] = matches.match_hometeam_id.map(total_dict_last)\n",
    "matches[\"old_season_points_away\"] = matches.match_awayteam_id.map(total_dict_last)\n",
    "\n",
    "matches[\"this_season_points_home\"] = matches.match_hometeam_id.map(total_dict_this)\n",
    "matches[\"this_season_points_away\"] = matches.match_awayteam_id.map(total_dict_this)"
   ]
  },
  {
   "cell_type": "markdown",
   "metadata": {},
   "source": [
    "**5. Average number of goals by home and away teams**(Regression)"
   ]
  },
  {
   "cell_type": "markdown",
   "metadata": {},
   "source": [
    "**-** Very similar to the above feature<br>\n",
    "**-** Find average number of goals by each team divided to seasons"
   ]
  },
  {
   "cell_type": "code",
   "execution_count": 44,
   "metadata": {},
   "outputs": [],
   "source": [
    "# Last season end date\n",
    "last_season_end = \"2019-08-08 23:00:00\"\n",
    "# Split current matches dataframe into last season and this season\n",
    "# Last Season\n",
    "last_season_df = matches[matches[\"datetime\"] < last_season_end]\n",
    "# This season\n",
    "this_season_df =  matches[matches[\"datetime\"] > last_season_end]"
   ]
  },
  {
   "cell_type": "code",
   "execution_count": 45,
   "metadata": {},
   "outputs": [],
   "source": [
    "#LAst Season\n",
    "a = pd.melt(last_season_df, id_vars = ['datetime',\"match_id\",\"match_hometeam_id\",\"match_awayteam_id\"], value_vars = [\"home_score\",\"away_score\"], var_name = \"Var1\",value_name='Var1_value')\n",
    "b = pd.melt(last_season_df, id_vars=['datetime',\"match_id\",\"home_score\",\"away_score\"], value_vars = [\"match_hometeam_id\",\"match_awayteam_id\"],var_name='Var2', value_name='Var2_value')\n",
    "last_season = a.merge(b,on = \"match_id\")\n",
    "last_season = last_season[[\"datetime_x\",\"match_id\",\"Var1\",\"Var1_value\",\"Var2\",\"Var2_value\"]]\n",
    "\n",
    "last_season.sort_values([\"datetime_x\",\"Var2_value\"])\n",
    "\n",
    "# Drop values that are duplicated but not needed\n",
    "last_season =(last_season[~((last_season[\"Var2\"] == \"match_hometeam_id\") & (last_season[\"Var1\"] == \"away_score\"))])\n",
    "last_season =(last_season[~((last_season[\"Var2\"] == \"match_awayteam_id\") & (last_season[\"Var1\"] == \"home_score\"))])\n",
    "\n",
    "\n",
    "goals_last_season_dict = last_season.groupby(\"Var2_value\")[\"Var1_value\"].mean().to_dict()\n"
   ]
  },
  {
   "cell_type": "code",
   "execution_count": 46,
   "metadata": {},
   "outputs": [],
   "source": [
    "# This Season\n",
    "a = pd.melt(this_season_df, id_vars = ['datetime',\"match_id\",\"match_hometeam_id\",\"match_awayteam_id\"], value_vars = [\"home_score\",\"away_score\"], var_name = \"Var1\",value_name='Var1_value')\n",
    "b = pd.melt(this_season_df, id_vars=['datetime',\"match_id\",\"home_score\",\"away_score\"], value_vars = [\"match_hometeam_id\",\"match_awayteam_id\"],var_name='Var2', value_name='Var2_value')\n",
    "this_season = a.merge(b,on = \"match_id\")\n",
    "this_season = this_season[[\"datetime_x\",\"match_id\",\"Var1\",\"Var1_value\",\"Var2\",\"Var2_value\"]]\n",
    "\n",
    "this_season.sort_values([\"datetime_x\",\"Var2_value\"])\n",
    "\n",
    "# Drop values that are duplicated but not needed\n",
    "this_season =(this_season[~((this_season[\"Var2\"] == \"match_hometeam_id\") & (this_season[\"Var1\"] == \"away_score\"))])\n",
    "this_season =(this_season[~((this_season[\"Var2\"] == \"match_awayteam_id\") & (this_season[\"Var1\"] == \"home_score\"))])\n",
    "\n",
    "\n",
    "goals_this_season_dict = this_season.groupby(\"Var2_value\")[\"Var1_value\"].mean().to_dict()"
   ]
  },
  {
   "cell_type": "code",
   "execution_count": 47,
   "metadata": {},
   "outputs": [],
   "source": [
    "matches[\"last_season_goals_home_total\"] = matches[\"match_hometeam_id\"].map(goals_last_season_dict)\n",
    "matches[\"last_season_goals_away_total\"] = matches[\"match_awayteam_id\"].map(goals_last_season_dict)\n",
    "matches[\"this_season_goals_home_total\"] = matches[\"match_hometeam_id\"].map(goals_this_season_dict)\n",
    "matches[\"this_season_goals_away_total\"] = matches[\"match_awayteam_id\"].map(goals_this_season_dict)"
   ]
  },
  {
   "cell_type": "markdown",
   "metadata": {},
   "source": [
    "**6. Average number of goals conceded by home and away teams**(Regression)"
   ]
  },
  {
   "cell_type": "markdown",
   "metadata": {},
   "source": [
    "**-** Find goals missed by home and away teams<br>\n",
    "**-** For example for home team take away team's goal and vice versa"
   ]
  },
  {
   "cell_type": "code",
   "execution_count": 48,
   "metadata": {},
   "outputs": [],
   "source": [
    "# Last season end date\n",
    "last_season_end = \"2019-08-08 23:00:00\"\n",
    "# Split current matches dataframe into last season and this season\n",
    "# Last Season\n",
    "last_season_df = matches[matches[\"datetime\"] < last_season_end]\n",
    "# This season\n",
    "this_season_df =  matches[matches[\"datetime\"] > last_season_end]"
   ]
  },
  {
   "cell_type": "code",
   "execution_count": 49,
   "metadata": {},
   "outputs": [],
   "source": [
    "#LAst Season\n",
    "a = pd.melt(last_season_df, id_vars = ['datetime',\"match_id\",\"match_hometeam_id\",\"match_awayteam_id\"], value_vars = [\"home_score\",\"away_score\"], var_name = \"Var1\",value_name='Var1_value')\n",
    "b = pd.melt(last_season_df, id_vars=['datetime',\"match_id\",\"home_score\",\"away_score\"], value_vars = [\"match_hometeam_id\",\"match_awayteam_id\"],var_name='Var2', value_name='Var2_value')\n",
    "last_season = a.merge(b,on = \"match_id\")\n",
    "last_season = last_season[[\"datetime_x\",\"match_id\",\"Var1\",\"Var1_value\",\"Var2\",\"Var2_value\"]]\n",
    "\n",
    "last_season.sort_values([\"datetime_x\",\"Var2_value\"])\n",
    "\n",
    "# Drop values that are duplicated but not needed\n",
    "last_season =(last_season[~((last_season[\"Var2\"] == \"match_hometeam_id\") & (last_season[\"Var1\"] == \"home_score\"))])\n",
    "last_season =(last_season[~((last_season[\"Var2\"] == \"match_awayteam_id\") & (last_season[\"Var1\"] == \"away_score\"))])\n",
    "\n",
    "\n",
    "goals_last_season_dict_conceded = last_season.groupby(\"Var2_value\")[\"Var1_value\"].mean().to_dict()\n",
    "\n",
    "#This Season\n",
    "a = pd.melt(this_season_df, id_vars = ['datetime',\"match_id\",\"match_hometeam_id\",\"match_awayteam_id\"], value_vars = [\"home_score\",\"away_score\"], var_name = \"Var1\",value_name='Var1_value')\n",
    "b = pd.melt(this_season_df, id_vars=['datetime',\"match_id\",\"home_score\",\"away_score\"], value_vars = [\"match_hometeam_id\",\"match_awayteam_id\"],var_name='Var2', value_name='Var2_value')\n",
    "this_season = a.merge(b,on = \"match_id\")\n",
    "this_season = this_season[[\"datetime_x\",\"match_id\",\"Var1\",\"Var1_value\",\"Var2\",\"Var2_value\"]]\n",
    "\n",
    "this_season.sort_values([\"datetime_x\",\"Var2_value\"])\n",
    "\n",
    "# Drop values that are duplicated but not needed\n",
    "this_season =(this_season[~((this_season[\"Var2\"] == \"match_hometeam_id\") & (this_season[\"Var1\"] == \"home_score\"))])\n",
    "this_season =(this_season[~((this_season[\"Var2\"] == \"match_awayteam_id\") & (this_season[\"Var1\"] == \"away_score\"))])\n",
    "\n",
    "\n",
    "goals_this_season_dict_conceded = this_season.groupby(\"Var2_value\")[\"Var1_value\"].mean().to_dict()"
   ]
  },
  {
   "cell_type": "code",
   "execution_count": 50,
   "metadata": {},
   "outputs": [],
   "source": [
    "matches[\"last_season_goals_home_concede\"] = matches[\"match_hometeam_id\"].map(goals_last_season_dict_conceded)\n",
    "matches[\"last_season_goals_away_concede\"] = matches[\"match_awayteam_id\"].map(goals_last_season_dict_conceded)\n",
    "matches[\"this_season_goals_home_concede\"] = matches[\"match_hometeam_id\"].map(goals_this_season_dict_conceded)\n",
    "matches[\"this_season_goals_away_concede\"] = matches[\"match_awayteam_id\"].map(goals_this_season_dict_conceded)"
   ]
  },
  {
   "cell_type": "markdown",
   "metadata": {},
   "source": [
    "# Tasks"
   ]
  },
  {
   "cell_type": "markdown",
   "metadata": {},
   "source": [
    "## 1.Classification - <span style=\"color:gray\">Predict if total goals in a match will be larger than 2.5</span>"
   ]
  },
  {
   "cell_type": "markdown",
   "metadata": {},
   "source": [
    "**Prepare a target column that shows if total number of goals are bigger than 2.5 or not**"
   ]
  },
  {
   "cell_type": "code",
   "execution_count": 51,
   "metadata": {},
   "outputs": [],
   "source": [
    "# Prepare a target column that shows if total number of goals are bigger than 2.5 or not\n",
    "# First create a total goals column\n",
    "matches[\"total_goals\"] = matches[\"home_score\"] + matches[\"away_score\"]\n",
    "# Create column that shows if match total score is bigger than 2.5 or not\n",
    "matches[\"more_than_2.5\"] = np.where(matches[\"total_goals\"]>2.5,\"1\",\"0\")"
   ]
  },
  {
   "cell_type": "markdown",
   "metadata": {},
   "source": [
    "## Algorithms"
   ]
  },
  {
   "cell_type": "code",
   "execution_count": 52,
   "metadata": {},
   "outputs": [],
   "source": [
    "# import necessary packages\n",
    "from sklearn.linear_model import LogisticRegressionCV\n",
    "from sklearn.linear_model import LogisticRegression\n",
    "from sklearn.model_selection import StratifiedKFold\n",
    "from sklearn.metrics import roc_auc_score,accuracy_score,confusion_matrix\n",
    "from sklearn.model_selection import KFold\n",
    "from sklearn.model_selection import cross_val_score\n",
    "from sklearn.model_selection import RandomizedSearchCV, GridSearchCV\n",
    "from sklearn import linear_model\n",
    "from sklearn.model_selection import train_test_split\n",
    "from sklearn.tree import DecisionTreeClassifier\n",
    "from sklearn.preprocessing import StandardScaler\n",
    "from sklearn.ensemble import RandomForestClassifier\n",
    "from sklearn.ensemble import GradientBoostingClassifier"
   ]
  },
  {
   "cell_type": "markdown",
   "metadata": {},
   "source": [
    "**Specify X(features) and y(target) values**"
   ]
  },
  {
   "cell_type": "code",
   "execution_count": 53,
   "metadata": {},
   "outputs": [],
   "source": [
    "matches_id = matches[\"match_id\"]\n",
    "X = matches.drop(['match_id','match_status',\n",
    "       'match_live', 'match_hometeam_name', 'match_awayteam_name',\n",
    "       'home_score', 'away_score', 'match_hometeam_halftime_score',\n",
    "       'match_awayteam_halftime_score', 'match_hometeam_extra_score',\n",
    "       'match_awayteam_extra_score', 'match_hometeam_penalty_score',\n",
    "       'match_awayteam_penalty_score', 'league_id', 'datetime', 'Date', 'Time',\n",
    "       'match_result',\"more_than_2.5\",\"total_goals\"], axis = 1)\n",
    "\n",
    "y = matches[\"more_than_2.5\"].astype('category')"
   ]
  },
  {
   "cell_type": "markdown",
   "metadata": {},
   "source": [
    "**Check for class imbalance in target column**"
   ]
  },
  {
   "cell_type": "code",
   "execution_count": 54,
   "metadata": {
    "scrolled": false
   },
   "outputs": [
    {
     "data": {
      "image/png": "[encoded data removed]",
      "text/plain": [
       "<Figure size 432x288 with 1 Axes>"
      ]
     },
     "metadata": {
      "needs_background": "light"
     },
     "output_type": "display_data"
    }
   ],
   "source": [
    "# Check for class imbalance\n",
    "y.value_counts().sort_values().plot(kind = 'bar');"
   ]
  },
  {
   "cell_type": "markdown",
   "metadata": {},
   "source": [
    "No class imbalance observed"
   ]
  },
  {
   "cell_type": "markdown",
   "metadata": {},
   "source": [
    "## Logistic Regression with Lasso Penalty"
   ]
  },
  {
   "cell_type": "markdown",
   "metadata": {},
   "source": [
    "**GridSearchCV for tuning Parameters**"
   ]
  },
  {
   "cell_type": "code",
   "execution_count": 55,
   "metadata": {},
   "outputs": [
    {
     "name": "stdout",
     "output_type": "stream",
     "text": [
      "Fitting 10 folds for each of 3 candidates, totalling 30 fits\n"
     ]
    },
    {
     "name": "stderr",
     "output_type": "stream",
     "text": [
      "[Parallel(n_jobs=1)]: Using backend SequentialBackend with 1 concurrent workers.\n",
      "[Parallel(n_jobs=1)]: Done  30 out of  30 | elapsed:  1.9min finished\n"
     ]
    },
    {
     "name": "stdout",
     "output_type": "stream",
     "text": [
      "{'C': 1.1} 0.7567140600315956\n"
     ]
    },
    {
     "data": {
      "text/plain": [
       "LogisticRegression(C=1.1, class_weight=None, dual=False, fit_intercept=True,\n",
       "                   intercept_scaling=1.0, l1_ratio=None, max_iter=10000,\n",
       "                   multi_class='auto', n_jobs=None, penalty='l1',\n",
       "                   random_state=42, solver='liblinear', tol=0.0001, verbose=0,\n",
       "                   warm_start=False)"
      ]
     },
     "execution_count": 55,
     "metadata": {},
     "output_type": "execute_result"
    }
   ],
   "source": [
    "from sklearn.model_selection import RandomizedSearchCV, GridSearchCV\n",
    "skf = StratifiedKFold(n_splits=10, random_state=42, shuffle=False)\n",
    "\n",
    "param_testing = {'C': [0.01,0.1,1.10]}\n",
    "\n",
    "gr = GridSearchCV(LogisticRegression(penalty='l1', \n",
    "                                     solver='liblinear',  \n",
    "                                     tol=0.0001, \n",
    "                                     max_iter=10000, \n",
    "                                     intercept_scaling=1.0, \n",
    "                                     multi_class='auto', \n",
    "                                     random_state=42),\n",
    "                  param_testing,\n",
    "                  verbose = 1,\n",
    "                  scoring='accuracy',\n",
    "                  cv = skf)\n",
    "\n",
    "    \n",
    "gr.fit(X_train,y_train)\n",
    "print(gr.best_params_, gr.best_score_)\n",
    "best_estimator = gr.best_estimator_\n",
    "best_estimator"
   ]
  },
  {
   "cell_type": "markdown",
   "metadata": {},
   "source": [
    "**Run the Model**"
   ]
  },
  {
   "cell_type": "code",
   "execution_count": 56,
   "metadata": {
    "scrolled": true
   },
   "outputs": [
    {
     "name": "stdout",
     "output_type": "stream",
     "text": [
      "Fold: 1\n",
      "Accuracy Score: 0.8028169014084507\n",
      "Fold: 2\n",
      "Accuracy Score: 0.7746478873239436\n",
      "Fold: 3\n",
      "Accuracy Score: 0.7464788732394366\n",
      "Fold: 4\n",
      "Accuracy Score: 0.7323943661971831\n",
      "Fold: 5\n",
      "Accuracy Score: 0.8142857142857143\n",
      "Fold: 6\n",
      "Accuracy Score: 0.6428571428571429\n",
      "Fold: 7\n",
      "Accuracy Score: 0.7428571428571429\n",
      "Fold: 8\n",
      "Accuracy Score: 0.7714285714285715\n",
      "Fold: 9\n",
      "Accuracy Score: 0.8115942028985508\n",
      "Fold: 10\n",
      "Accuracy Score: 0.7101449275362319\n",
      "Fold: 1\n",
      "Accuracy Score: 0.7654516640253566\n",
      "Fold: 2\n",
      "Accuracy Score: 0.7591125198098256\n",
      "Fold: 3\n",
      "Accuracy Score: 0.7812995245641838\n",
      "Fold: 4\n",
      "Accuracy Score: 0.7717908082408875\n",
      "Fold: 5\n",
      "Accuracy Score: 0.7610759493670886\n",
      "Fold: 6\n",
      "Accuracy Score: 0.7768987341772152\n",
      "Fold: 7\n",
      "Accuracy Score: 0.7642405063291139\n",
      "Fold: 8\n",
      "Accuracy Score: 0.7721518987341772\n",
      "Fold: 9\n",
      "Accuracy Score: 0.7630331753554502\n",
      "Fold: 10\n",
      "Accuracy Score: 0.7756714060031595\n"
     ]
    }
   ],
   "source": [
    "lr = LogisticRegression(C = 1.1,\n",
    "                          penalty='l1', \n",
    "                          solver='liblinear',  \n",
    "                          tol=0.0001, \n",
    "                          max_iter=10000, \n",
    "                          intercept_scaling=1.0, \n",
    "                          multi_class='auto', \n",
    "                          random_state=42)\n",
    "\n",
    "\n",
    "# Test Score\n",
    "final_score = []\n",
    "# Stratified KFold\n",
    "skf = StratifiedKFold(n_splits=10, random_state=42, shuffle=False)\n",
    "for fold, (train_index, test_index) in enumerate(skf.split(X, y)):\n",
    "    print(\"Fold:\" , fold +1)\n",
    "    X_train, X_test = X.iloc[train_index], X.iloc[test_index]\n",
    "    y_train, y_test = y.iloc[train_index], y.iloc[test_index]\n",
    "    lr.fit(X_train,y_train)\n",
    "    predictions = lr.predict(X_test)\n",
    "    final_score.append(accuracy_score(y_test, predictions))\n",
    "    print(\"Accuracy Score:\" ,accuracy_score(y_test, predictions))    \n",
    "    \n",
    "logistic_test = np.mean(final_score)\n",
    "\n",
    "# Train Score\n",
    "final_score_train = []\n",
    "# Stratified KFold\n",
    "skf = StratifiedKFold(n_splits=10, random_state=42, shuffle=False)\n",
    "for fold, (train_index, test_index) in enumerate(skf.split(X, y)):\n",
    "    print(\"Fold:\" , fold +1)\n",
    "    X_train, X_test = X.iloc[train_index], X.iloc[test_index]\n",
    "    y_train, y_test = y.iloc[train_index], y.iloc[test_index]\n",
    "    lr.fit(X_train,y_train)\n",
    "    predictions = lr.predict(X_train)\n",
    "    final_score_train.append(accuracy_score(y_train, predictions))\n",
    "    print(\"Accuracy Score:\" ,accuracy_score(y_train, predictions))\n",
    "    \n",
    "logistic_train = np.mean(final_score_train)"
   ]
  },
  {
   "cell_type": "markdown",
   "metadata": {},
   "source": [
    "**Plot test accuracy vs. train accuracy**"
   ]
  },
  {
   "cell_type": "code",
   "execution_count": 57,
   "metadata": {
    "scrolled": true
   },
   "outputs": [
    {
     "data": {
      "image/png": "[encoded data removed]",
      "text/plain": [
       "<Figure size 432x288 with 1 Axes>"
      ]
     },
     "metadata": {
      "needs_background": "light"
     },
     "output_type": "display_data"
    }
   ],
   "source": [
    "fig, ax = plt.subplots()\n",
    "ax.plot(final_score_train, '-b', label='train')\n",
    "ax.plot(final_score, '--r', label='test')\n",
    "leg = ax.legend();"
   ]
  },
  {
   "cell_type": "markdown",
   "metadata": {},
   "source": [
    "Although our mean train and test error rates are pretty close. Test error has high variance. We have only tuned lambda parameter as requested in the question with GridSearchCV and used a c value of 1.1. The high variance could be due to the noise in our training data.Also, it could be due to need of scaling/normalization in our data. We were able to predict %75 of the classes from test data shown by our mean accuracy score. Mean values of train and test scores are almost the same so we can say no overfitting."
   ]
  },
  {
   "cell_type": "markdown",
   "metadata": {},
   "source": [
    "# Decision Tree"
   ]
  },
  {
   "cell_type": "markdown",
   "metadata": {},
   "source": [
    "**GridSearchCV for tuning Parameters**"
   ]
  },
  {
   "cell_type": "code",
   "execution_count": 58,
   "metadata": {},
   "outputs": [
    {
     "name": "stdout",
     "output_type": "stream",
     "text": [
      "Fitting 10 folds for each of 99 candidates, totalling 990 fits\n"
     ]
    },
    {
     "name": "stderr",
     "output_type": "stream",
     "text": [
      "[Parallel(n_jobs=1)]: Using backend SequentialBackend with 1 concurrent workers.\n"
     ]
    },
    {
     "name": "stdout",
     "output_type": "stream",
     "text": [
      "{'min_samples_leaf': 29} 0.7109004739336493\n"
     ]
    },
    {
     "name": "stderr",
     "output_type": "stream",
     "text": [
      "[Parallel(n_jobs=1)]: Done 990 out of 990 | elapsed:    6.0s finished\n"
     ]
    },
    {
     "data": {
      "text/plain": [
       "DecisionTreeClassifier(class_weight=None, criterion='gini', max_depth=4,\n",
       "                       max_features=None, max_leaf_nodes=None,\n",
       "                       min_impurity_decrease=0.0, min_impurity_split=None,\n",
       "                       min_samples_leaf=29, min_samples_split=2,\n",
       "                       min_weight_fraction_leaf=0.0, presort=False,\n",
       "                       random_state=42, splitter='best')"
      ]
     },
     "execution_count": 58,
     "metadata": {},
     "output_type": "execute_result"
    }
   ],
   "source": [
    "from sklearn.model_selection import RandomizedSearchCV, GridSearchCV\n",
    "skf = StratifiedKFold(n_splits=10, random_state=42, shuffle=False)\n",
    "\n",
    "# We will try these parameters seperately because when tried together they do not give the best result\n",
    "param_testing_depth = {'max_depth':np.arange(1,100,1)}  \n",
    "# {'max_depth': 4} 0.7061611374407583\n",
    "param_testing_minsamples = {'min_samples_leaf':np.arange(1,100,1)}  ,\n",
    "# {'min_samples_leaf': 26} 0.7124802527646129\n",
    "\n",
    "gr = GridSearchCV(DecisionTreeClassifier(random_state=42, max_depth=4,min_samples_leaf = 26),\n",
    "                  param_testing_minsamples,\n",
    "                  verbose = 1,\n",
    "                  scoring='accuracy',\n",
    "                  cv = skf)\n",
    "\n",
    "    \n",
    "gr.fit(X_train,y_train)\n",
    "print(gr.best_params_, gr.best_score_)\n",
    "best_estimator = gr.best_estimator_\n",
    "best_estimator"
   ]
  },
  {
   "cell_type": "markdown",
   "metadata": {},
   "source": [
    "**Run the Model**"
   ]
  },
  {
   "cell_type": "code",
   "execution_count": 59,
   "metadata": {
    "scrolled": false
   },
   "outputs": [
    {
     "name": "stdout",
     "output_type": "stream",
     "text": [
      "Fold: 1\n",
      "Accuracy Score: 0.7464788732394366\n",
      "Fold: 2\n",
      "Accuracy Score: 0.7605633802816901\n",
      "Fold: 3\n",
      "Accuracy Score: 0.6901408450704225\n",
      "Fold: 4\n",
      "Accuracy Score: 0.7464788732394366\n",
      "Fold: 5\n",
      "Accuracy Score: 0.7\n",
      "Fold: 6\n",
      "Accuracy Score: 0.6142857142857143\n",
      "Fold: 7\n",
      "Accuracy Score: 0.6285714285714286\n",
      "Fold: 8\n",
      "Accuracy Score: 0.6\n",
      "Fold: 9\n",
      "Accuracy Score: 0.7536231884057971\n",
      "Fold: 10\n",
      "Accuracy Score: 0.7681159420289855\n",
      "Fold: 1\n",
      "Accuracy Score: 0.7496038034865293\n",
      "Fold: 2\n",
      "Accuracy Score: 0.7559429477020603\n",
      "Fold: 3\n",
      "Accuracy Score: 0.7480190174326465\n",
      "Fold: 4\n",
      "Accuracy Score: 0.7606973058637084\n",
      "Fold: 5\n",
      "Accuracy Score: 0.7420886075949367\n",
      "Fold: 6\n",
      "Accuracy Score: 0.7531645569620253\n",
      "Fold: 7\n",
      "Accuracy Score: 0.7658227848101266\n",
      "Fold: 8\n",
      "Accuracy Score: 0.75\n",
      "Fold: 9\n",
      "Accuracy Score: 0.7345971563981043\n",
      "Fold: 10\n",
      "Accuracy Score: 0.7503949447077409\n"
     ]
    }
   ],
   "source": [
    "dt = DecisionTreeClassifier(random_state=42,max_depth=4,min_samples_leaf = 26)\n",
    "\n",
    "\n",
    "# Test Score\n",
    "final_score = []\n",
    "# Stratified KFold\n",
    "skf = StratifiedKFold(n_splits=10, random_state=42, shuffle=False)\n",
    "for fold, (train_index, test_index) in enumerate(skf.split(X, y)):\n",
    "    print(\"Fold:\" , fold +1)\n",
    "    X_train, X_test = X.iloc[train_index], X.iloc[test_index]\n",
    "    y_train, y_test = y.iloc[train_index], y.iloc[test_index]\n",
    "    dt.fit(X_train,y_train)\n",
    "    predictions = dt.predict(X_test)\n",
    "    final_score.append(accuracy_score(y_test, predictions))\n",
    "    print(\"Accuracy Score:\" ,accuracy_score(y_test, predictions))    \n",
    "    \n",
    "decision_test = np.mean(final_score)\n",
    "\n",
    "# Train Score\n",
    "final_score_train = []\n",
    "# Stratified KFold\n",
    "skf = StratifiedKFold(n_splits=10, random_state=42, shuffle=False)\n",
    "for fold, (train_index, test_index) in enumerate(skf.split(X, y)):\n",
    "    print(\"Fold:\" , fold +1)\n",
    "    X_train, X_test = X.iloc[train_index], X.iloc[test_index]\n",
    "    y_train, y_test = y.iloc[train_index], y.iloc[test_index]\n",
    "    dt.fit(X_train,y_train)\n",
    "    predictions = dt.predict(X_train)\n",
    "    final_score_train.append(accuracy_score(y_train, predictions))\n",
    "    print(\"Accuracy Score:\" ,accuracy_score(y_train, predictions))\n",
    "    \n",
    "decision_train = np.mean(final_score_train)"
   ]
  },
  {
   "cell_type": "markdown",
   "metadata": {},
   "source": [
    "**Plot test accuracy vs. train accuracy**"
   ]
  },
  {
   "cell_type": "code",
   "execution_count": 60,
   "metadata": {},
   "outputs": [
    {
     "data": {
      "image/png": "[encoded data removed]",
      "text/plain": [
       "<Figure size 432x288 with 1 Axes>"
      ]
     },
     "metadata": {
      "needs_background": "light"
     },
     "output_type": "display_data"
    }
   ],
   "source": [
    "fig, ax = plt.subplots()\n",
    "ax.plot(final_score_train, '-b', label='train')\n",
    "ax.plot(final_score, '--r', label='test')\n",
    "leg = ax.legend();"
   ]
  },
  {
   "cell_type": "markdown",
   "metadata": {},
   "source": [
    "Our mean train accuracy is 0.75 whereas our mean test accuracy is 0.71. Test error has high variance again. The high variance could be due to the noise in our training data. However, since tree based models are not affected by scaling it is not due to neeed for scaling. We were able to predict %71 of the classes from test data shown by our mean accuracy score. This is comparably less than our LogisticRegression Scores. There is no indication of overfitting or underfitting for test set since the accuracy scores jump up and down. There could be slight over fitting for train data looking at the scores over the 10 folds for test and train data."
   ]
  },
  {
   "cell_type": "markdown",
   "metadata": {},
   "source": [
    "# Random Forest"
   ]
  },
  {
   "cell_type": "markdown",
   "metadata": {},
   "source": [
    "**GridSearchCV for tuning Parameters**"
   ]
  },
  {
   "cell_type": "code",
   "execution_count": 61,
   "metadata": {},
   "outputs": [
    {
     "name": "stdout",
     "output_type": "stream",
     "text": [
      "Fitting 10 folds for each of 13 candidates, totalling 130 fits\n"
     ]
    },
    {
     "name": "stderr",
     "output_type": "stream",
     "text": [
      "[Parallel(n_jobs=1)]: Using backend SequentialBackend with 1 concurrent workers.\n",
      "[Parallel(n_jobs=1)]: Done 130 out of 130 | elapsed:  2.2min finished\n"
     ]
    },
    {
     "name": "stdout",
     "output_type": "stream",
     "text": [
      "{'max_features': 4} 0.7377567140600316\n"
     ]
    },
    {
     "data": {
      "text/plain": [
       "RandomForestClassifier(bootstrap=True, class_weight=None, criterion='gini',\n",
       "                       max_depth=9, max_features=4, max_leaf_nodes=None,\n",
       "                       min_impurity_decrease=0.0, min_impurity_split=None,\n",
       "                       min_samples_leaf=5, min_samples_split=2,\n",
       "                       min_weight_fraction_leaf=0.0, n_estimators=500,\n",
       "                       n_jobs=None, oob_score=False, random_state=0, verbose=0,\n",
       "                       warm_start=False)"
      ]
     },
     "execution_count": 61,
     "metadata": {},
     "output_type": "execute_result"
    }
   ],
   "source": [
    "skf = StratifiedKFold(n_splits=10, random_state=42, shuffle=False)\n",
    "\n",
    "# only asked to tune number of features to do a split\n",
    "# Max_features should be between 0,n_features(We have 14 features)\n",
    "param_testing_m = {'max_features':np.arange(1,14,1)}  \n",
    "# {'max_features': 3} 0.740916271721959\n",
    "\n",
    "\n",
    "gr = GridSearchCV(RandomForestClassifier(max_depth=9, \n",
    "                                              random_state=0,\n",
    "                                              min_samples_leaf = 5,\n",
    "                                              n_estimators = 500)\n",
    "                  ,param_testing_m,\n",
    "                  verbose = 1,\n",
    "                  scoring='accuracy',\n",
    "                  cv = skf)\n",
    "\n",
    "    \n",
    "gr.fit(X_train,y_train)\n",
    "print(gr.best_params_, gr.best_score_)\n",
    "best_estimator = gr.best_estimator_\n",
    "best_estimator"
   ]
  },
  {
   "cell_type": "markdown",
   "metadata": {},
   "source": [
    "**Run the Model**"
   ]
  },
  {
   "cell_type": "code",
   "execution_count": 62,
   "metadata": {
    "scrolled": true
   },
   "outputs": [
    {
     "name": "stdout",
     "output_type": "stream",
     "text": [
      "Fold: 1\n",
      "Accuracy Score: 0.7464788732394366\n",
      "Fold: 2\n",
      "Accuracy Score: 0.7887323943661971\n",
      "Fold: 3\n",
      "Accuracy Score: 0.6901408450704225\n",
      "Fold: 4\n",
      "Accuracy Score: 0.676056338028169\n",
      "Fold: 5\n",
      "Accuracy Score: 0.7714285714285715\n",
      "Fold: 6\n",
      "Accuracy Score: 0.6571428571428571\n",
      "Fold: 7\n",
      "Accuracy Score: 0.6857142857142857\n",
      "Fold: 8\n",
      "Accuracy Score: 0.6571428571428571\n",
      "Fold: 9\n",
      "Accuracy Score: 0.8260869565217391\n",
      "Fold: 10\n",
      "Accuracy Score: 0.7536231884057971\n",
      "Fold: 1\n",
      "Accuracy Score: 0.8748019017432647\n",
      "Fold: 2\n",
      "Accuracy Score: 0.8779714738510301\n",
      "Fold: 3\n",
      "Accuracy Score: 0.8874801901743264\n",
      "Fold: 4\n",
      "Accuracy Score: 0.8700475435816165\n",
      "Fold: 5\n",
      "Accuracy Score: 0.8781645569620253\n",
      "Fold: 6\n",
      "Accuracy Score: 0.8765822784810127\n",
      "Fold: 7\n",
      "Accuracy Score: 0.8829113924050633\n",
      "Fold: 8\n",
      "Accuracy Score: 0.8876582278481012\n",
      "Fold: 9\n",
      "Accuracy Score: 0.8783570300157978\n",
      "Fold: 10\n",
      "Accuracy Score: 0.8846761453396524\n"
     ]
    }
   ],
   "source": [
    "rf = RandomForestClassifier(max_depth=9, random_state=0,min_samples_leaf = 5,n_estimators = 500,max_features = 3)\n",
    "\n",
    "\n",
    "# Test Score\n",
    "final_score = []\n",
    "# Stratified KFold\n",
    "skf = StratifiedKFold(n_splits=10, random_state=42, shuffle=False)\n",
    "for fold, (train_index, test_index) in enumerate(skf.split(X, y)):\n",
    "    print(\"Fold:\" , fold +1)\n",
    "    X_train, X_test = X.iloc[train_index], X.iloc[test_index]\n",
    "    y_train, y_test = y.iloc[train_index], y.iloc[test_index]\n",
    "    rf.fit(X_train,y_train)\n",
    "    predictions = rf.predict(X_test)\n",
    "    final_score.append(accuracy_score(y_test, predictions))\n",
    "    print(\"Accuracy Score:\" ,accuracy_score(y_test, predictions))    \n",
    "    \n",
    "random_test = np.mean(final_score)\n",
    "\n",
    "# Train Score\n",
    "final_score_train = []\n",
    "# Stratified KFold\n",
    "skf = StratifiedKFold(n_splits=10, random_state=42, shuffle=False)\n",
    "for fold, (train_index, test_index) in enumerate(skf.split(X, y)):\n",
    "    print(\"Fold:\" , fold +1)\n",
    "    X_train, X_test = X.iloc[train_index], X.iloc[test_index]\n",
    "    y_train, y_test = y.iloc[train_index], y.iloc[test_index]\n",
    "    rf.fit(X_train,y_train)\n",
    "    predictions = rf.predict(X_train)\n",
    "    final_score_train.append(accuracy_score(y_train, predictions))\n",
    "    print(\"Accuracy Score:\" ,accuracy_score(y_train, predictions))\n",
    "    \n",
    "random_train = np.mean(final_score_train)"
   ]
  },
  {
   "cell_type": "markdown",
   "metadata": {},
   "source": [
    "**Plot test accuracy vs. train accuracy**"
   ]
  },
  {
   "cell_type": "code",
   "execution_count": 63,
   "metadata": {},
   "outputs": [
    {
     "data": {
      "image/png": "[encoded data removed]",
      "text/plain": [
       "<Figure size 432x288 with 1 Axes>"
      ]
     },
     "metadata": {
      "needs_background": "light"
     },
     "output_type": "display_data"
    }
   ],
   "source": [
    "fig, ax = plt.subplots()\n",
    "ax.plot(final_score_train, '-b', label='train')\n",
    "ax.plot(final_score, '--r', label='test')\n",
    "leg = ax.legend();"
   ]
  },
  {
   "cell_type": "markdown",
   "metadata": {},
   "source": [
    "Our mean train accuracy is 0.86 whereas our mean test accuracy is 0.74. Test error has high variance again. The high variance could be due to the noise in our training data. However, since tree based models are not affected by scaling it is not due to neeed for scaling. For this we can say our model overfitted the train data which can be expected because we have about ~600 lines of data. And overfitting is expected for such small data."
   ]
  },
  {
   "cell_type": "markdown",
   "metadata": {},
   "source": [
    "# Stochastic Gradient Boosting (SGB):"
   ]
  },
  {
   "cell_type": "markdown",
   "metadata": {},
   "source": [
    "**GridSearchCV for tuning Parameters**"
   ]
  },
  {
   "cell_type": "code",
   "execution_count": 64,
   "metadata": {},
   "outputs": [
    {
     "name": "stdout",
     "output_type": "stream",
     "text": [
      "Fitting 10 folds for each of 2 candidates, totalling 20 fits\n"
     ]
    },
    {
     "name": "stderr",
     "output_type": "stream",
     "text": [
      "[Parallel(n_jobs=1)]: Using backend SequentialBackend with 1 concurrent workers.\n",
      "[Parallel(n_jobs=1)]: Done  20 out of  20 | elapsed:    5.1s finished\n"
     ]
    },
    {
     "name": "stdout",
     "output_type": "stream",
     "text": [
      "{'learning_rate': 0.01} 0.7424960505529226\n"
     ]
    },
    {
     "data": {
      "text/plain": [
       "GradientBoostingClassifier(criterion='friedman_mse', init=None,\n",
       "                           learning_rate=0.01, loss='deviance', max_depth=2,\n",
       "                           max_features=None, max_leaf_nodes=None,\n",
       "                           min_impurity_decrease=0.0, min_impurity_split=None,\n",
       "                           min_samples_leaf=1, min_samples_split=2,\n",
       "                           min_weight_fraction_leaf=0.0, n_estimators=350,\n",
       "                           n_iter_no_change=None, presort='auto',\n",
       "                           random_state=42, subsample=1.0, tol=0.0001,\n",
       "                           validation_fraction=0.1, verbose=0,\n",
       "                           warm_start=False)"
      ]
     },
     "execution_count": 64,
     "metadata": {},
     "output_type": "execute_result"
    }
   ],
   "source": [
    "skf = StratifiedKFold(n_splits=10, random_state=42, shuffle=False)\n",
    "\n",
    "\n",
    "\n",
    "param_testing_depth = {'max_depth':np.arange(1,14,1)}  \n",
    "# {'max_depth': 2} 0.7282780410742496\n",
    "param_testing_trees = {'n_estimators':np.arange(300,500,50)}\n",
    "# {'n_estimators': 350} 0.7456556082148499\n",
    "param_testing_learning = {'learning_rate':np.arange(0.01,0.1,0.05)} \n",
    "# {'learning_rate': 0.01} 0.7456556082148499\n",
    "\n",
    "\n",
    "\n",
    "gr = GridSearchCV(GradientBoostingClassifier(random_state=42,max_depth = 2,n_estimators = 350)\n",
    "                  ,param_testing_learning,\n",
    "                  verbose = 1,\n",
    "                  scoring='accuracy',\n",
    "                  cv = skf)\n",
    "\n",
    "    \n",
    "gr.fit(X_train,y_train)\n",
    "print(gr.best_params_, gr.best_score_)\n",
    "best_estimator = gr.best_estimator_\n",
    "best_estimator"
   ]
  },
  {
   "cell_type": "markdown",
   "metadata": {},
   "source": [
    "**Run the Model**"
   ]
  },
  {
   "cell_type": "code",
   "execution_count": 65,
   "metadata": {
    "scrolled": false
   },
   "outputs": [
    {
     "name": "stdout",
     "output_type": "stream",
     "text": [
      "Fold: 1\n",
      "Accuracy Score: 0.8169014084507042\n",
      "Fold: 2\n",
      "Accuracy Score: 0.7887323943661971\n",
      "Fold: 3\n",
      "Accuracy Score: 0.676056338028169\n",
      "Fold: 4\n",
      "Accuracy Score: 0.7183098591549296\n",
      "Fold: 5\n",
      "Accuracy Score: 0.8428571428571429\n",
      "Fold: 6\n",
      "Accuracy Score: 0.6142857142857143\n",
      "Fold: 7\n",
      "Accuracy Score: 0.7\n",
      "Fold: 8\n",
      "Accuracy Score: 0.6714285714285714\n",
      "Fold: 9\n",
      "Accuracy Score: 0.7971014492753623\n",
      "Fold: 10\n",
      "Accuracy Score: 0.7536231884057971\n",
      "Fold: 1\n",
      "Accuracy Score: 0.7844690966719493\n",
      "Fold: 2\n",
      "Accuracy Score: 0.7923930269413629\n",
      "Fold: 3\n",
      "Accuracy Score: 0.7908082408874801\n",
      "Fold: 4\n",
      "Accuracy Score: 0.7797147385103012\n",
      "Fold: 5\n",
      "Accuracy Score: 0.7863924050632911\n",
      "Fold: 6\n",
      "Accuracy Score: 0.805379746835443\n",
      "Fold: 7\n",
      "Accuracy Score: 0.7911392405063291\n",
      "Fold: 8\n",
      "Accuracy Score: 0.7895569620253164\n",
      "Fold: 9\n",
      "Accuracy Score: 0.7867298578199052\n",
      "Fold: 10\n",
      "Accuracy Score: 0.7851500789889415\n"
     ]
    }
   ],
   "source": [
    "gb = GradientBoostingClassifier(random_state=42,max_depth = 2,n_estimators = 350, learning_rate = 0.01)\n",
    "\n",
    "\n",
    "# Test Score\n",
    "final_score = []\n",
    "# Stratified KFold\n",
    "skf = StratifiedKFold(n_splits=10, random_state=42, shuffle=False)\n",
    "for fold, (train_index, test_index) in enumerate(skf.split(X, y)):\n",
    "    print(\"Fold:\" , fold +1)\n",
    "    X_train, X_test = X.iloc[train_index], X.iloc[test_index]\n",
    "    y_train, y_test = y.iloc[train_index], y.iloc[test_index]\n",
    "    gb.fit(X_train,y_train)\n",
    "    predictions = gb.predict(X_test)\n",
    "    final_score.append(accuracy_score(y_test, predictions))\n",
    "    print(\"Accuracy Score:\" ,accuracy_score(y_test, predictions))    \n",
    "    \n",
    "gradient_test = np.mean(final_score)\n",
    "\n",
    "# Train Score\n",
    "final_score_train = []\n",
    "# Stratified KFold\n",
    "skf = StratifiedKFold(n_splits=10, random_state=42, shuffle=False)\n",
    "for fold, (train_index, test_index) in enumerate(skf.split(X, y)):\n",
    "    print(\"Fold:\" , fold +1)\n",
    "    X_train, X_test = X.iloc[train_index], X.iloc[test_index]\n",
    "    y_train, y_test = y.iloc[train_index], y.iloc[test_index]\n",
    "    gb.fit(X_train,y_train)\n",
    "    predictions = gb.predict(X_train)\n",
    "    final_score_train.append(accuracy_score(y_train, predictions))\n",
    "    print(\"Accuracy Score:\" ,accuracy_score(y_train, predictions))\n",
    "    \n",
    "gradient_train = np.mean(final_score_train)"
   ]
  },
  {
   "cell_type": "code",
   "execution_count": 66,
   "metadata": {},
   "outputs": [
    {
     "data": {
      "text/plain": [
       "0.789173339425032"
      ]
     },
     "execution_count": 66,
     "metadata": {},
     "output_type": "execute_result"
    }
   ],
   "source": [
    "gradient_train"
   ]
  },
  {
   "cell_type": "code",
   "execution_count": 67,
   "metadata": {},
   "outputs": [
    {
     "data": {
      "text/plain": [
       "0.7379296066252589"
      ]
     },
     "execution_count": 67,
     "metadata": {},
     "output_type": "execute_result"
    }
   ],
   "source": [
    "gradient_test"
   ]
  },
  {
   "cell_type": "markdown",
   "metadata": {},
   "source": [
    "**Plot test accuracy vs. train accuracy**"
   ]
  },
  {
   "cell_type": "code",
   "execution_count": 68,
   "metadata": {
    "scrolled": true
   },
   "outputs": [
    {
     "data": {
      "image/png": "[encoded data removed]",
      "text/plain": [
       "<Figure size 432x288 with 1 Axes>"
      ]
     },
     "metadata": {
      "needs_background": "light"
     },
     "output_type": "display_data"
    }
   ],
   "source": [
    "fig, ax = plt.subplots()\n",
    "ax.plot(final_score_train, '-b', label='train')\n",
    "ax.plot(final_score, '--r', label='test')\n",
    "leg = ax.legend();"
   ]
  },
  {
   "cell_type": "markdown",
   "metadata": {},
   "source": [
    "Our mean train accuracy is 0.78 whereas our mean test accuracy is 0.73. Test error has high variance as usual. The high variance could be due to the noise in our training data. For this we can say our model overfitted the train data which can be expected because we have about ~600 lines of data. And overfitting is expected for such small data for complex models"
   ]
  },
  {
   "cell_type": "markdown",
   "metadata": {},
   "source": [
    "**Let's compare the results from all algorithms**"
   ]
  },
  {
   "cell_type": "code",
   "execution_count": 69,
   "metadata": {},
   "outputs": [
    {
     "data": {
      "text/html": [
       "<div>\n",
       "<style scoped>\n",
       "    .dataframe tbody tr th:only-of-type {\n",
       "        vertical-align: middle;\n",
       "    }\n",
       "\n",
       "    .dataframe tbody tr th {\n",
       "        vertical-align: top;\n",
       "    }\n",
       "\n",
       "    .dataframe thead th {\n",
       "        text-align: right;\n",
       "    }\n",
       "</style>\n",
       "<table border=\"1\" class=\"dataframe\">\n",
       "  <thead>\n",
       "    <tr style=\"text-align: right;\">\n",
       "      <th></th>\n",
       "      <th>train</th>\n",
       "      <th>test</th>\n",
       "    </tr>\n",
       "  </thead>\n",
       "  <tbody>\n",
       "    <tr>\n",
       "      <th>LogisticRegression</th>\n",
       "      <td>0.769073</td>\n",
       "      <td>0.754951</td>\n",
       "    </tr>\n",
       "    <tr>\n",
       "      <th>DecisionTree</th>\n",
       "      <td>0.751033</td>\n",
       "      <td>0.700826</td>\n",
       "    </tr>\n",
       "    <tr>\n",
       "      <th>RandomForest</th>\n",
       "      <td>0.879865</td>\n",
       "      <td>0.725255</td>\n",
       "    </tr>\n",
       "    <tr>\n",
       "      <th>GradientBoosting</th>\n",
       "      <td>0.789173</td>\n",
       "      <td>0.737930</td>\n",
       "    </tr>\n",
       "  </tbody>\n",
       "</table>\n",
       "</div>"
      ],
      "text/plain": [
       "                       train      test\n",
       "LogisticRegression  0.769073  0.754951\n",
       "DecisionTree        0.751033  0.700826\n",
       "RandomForest        0.879865  0.725255\n",
       "GradientBoosting    0.789173  0.737930"
      ]
     },
     "execution_count": 69,
     "metadata": {},
     "output_type": "execute_result"
    }
   ],
   "source": [
    "# Add train and test scores for all Algorithms\n",
    "classification_algorithm_df = pd.DataFrame(data = {\"train\":[logistic_train,decision_train,random_train,gradient_train],\n",
    "                                                   \"test\":[logistic_test,decision_test,random_test,gradient_test]})\n",
    "classification_algorithm_df.index = [\"LogisticRegression\",\"DecisionTree\",\"RandomForest\",\"GradientBoosting\"]\n",
    "classification_algorithm_df"
   ]
  },
  {
   "cell_type": "markdown",
   "metadata": {},
   "source": [
    "We see that Logistic Regression with Lasso penalty has the highest test accuracy which is expected because our data size is very small about 600 rows that is why the complex models are expected to overfit and produce lower accuracy on test data."
   ]
  },
  {
   "cell_type": "markdown",
   "metadata": {},
   "source": [
    "## 1.Regression - <span style=\"color:gray\"> Predict the total number of goals</span>"
   ]
  },
  {
   "cell_type": "markdown",
   "metadata": {},
   "source": [
    "**Import Packages**"
   ]
  },
  {
   "cell_type": "code",
   "execution_count": 72,
   "metadata": {},
   "outputs": [],
   "source": [
    "# Import some additional packages\n",
    "from sklearn.metrics import mean_squared_error\n",
    "from yellowbrick.regressor import AlphaSelection\n",
    "from sklearn.linear_model import LassoCV\n",
    "from sklearn.linear_model import Lasso\n",
    "from sklearn.metrics import mean_absolute_error\n",
    "from yellowbrick.regressor import ManualAlphaSelection"
   ]
  },
  {
   "cell_type": "markdown",
   "metadata": {},
   "source": [
    "**Create column total number of goals**"
   ]
  },
  {
   "cell_type": "code",
   "execution_count": 73,
   "metadata": {},
   "outputs": [],
   "source": [
    "matches[\"total\"] = matches[\"home_score\"] + matches[\"away_score\"]"
   ]
  },
  {
   "cell_type": "markdown",
   "metadata": {},
   "source": [
    "**Set X(features) and y(target) variables**"
   ]
  },
  {
   "cell_type": "code",
   "execution_count": 74,
   "metadata": {},
   "outputs": [],
   "source": [
    "X = matches.drop(['match_id','match_status',\n",
    "       'match_live', 'match_hometeam_name', 'match_awayteam_name',\n",
    "       'home_score', 'away_score', 'match_hometeam_halftime_score',\n",
    "       'match_awayteam_halftime_score', 'match_hometeam_extra_score',\n",
    "       'match_awayteam_extra_score', 'match_hometeam_penalty_score',\n",
    "       'match_awayteam_penalty_score', 'league_id', 'datetime', 'Date', 'Time',\n",
    "       'match_result',\"home_points\",\"away_points\",\"total\"], axis = 1)\n",
    "\n",
    "y = matches[\"total\"]"
   ]
  },
  {
   "cell_type": "markdown",
   "metadata": {},
   "source": [
    "# Algorithms"
   ]
  },
  {
   "cell_type": "markdown",
   "metadata": {},
   "source": [
    "# LassoCV"
   ]
  },
  {
   "cell_type": "markdown",
   "metadata": {},
   "source": [
    "**GridSearchCV for tuning Parameters**"
   ]
  },
  {
   "cell_type": "code",
   "execution_count": 75,
   "metadata": {},
   "outputs": [
    {
     "name": "stdout",
     "output_type": "stream",
     "text": [
      "Fitting 10 folds for each of 3 candidates, totalling 30 fits\n"
     ]
    },
    {
     "name": "stderr",
     "output_type": "stream",
     "text": [
      "[Parallel(n_jobs=1)]: Using backend SequentialBackend with 1 concurrent workers.\n",
      "[Parallel(n_jobs=1)]: Done  30 out of  30 | elapsed:    0.1s finished\n"
     ]
    },
    {
     "name": "stdout",
     "output_type": "stream",
     "text": [
      "{'alpha': 0.01} -0.3809343817908542\n"
     ]
    },
    {
     "data": {
      "text/plain": [
       "Lasso(alpha=0.01, copy_X=True, fit_intercept=True, max_iter=1000,\n",
       "      normalize=False, positive=False, precompute=False, random_state=42,\n",
       "      selection='cyclic', tol=0.0001, warm_start=False)"
      ]
     },
     "execution_count": 75,
     "metadata": {},
     "output_type": "execute_result"
    }
   ],
   "source": [
    "skf = StratifiedKFold(n_splits=10, random_state=42, shuffle=False)\n",
    "\n",
    "\n",
    "\n",
    "param_testing = {'alpha': [0.01,0.1,1.10]}\n",
    "# {'alpha': 0.01} -0.38093438179085426\n",
    "\n",
    "gr = GridSearchCV(Lasso( random_state=42),\n",
    "                  param_testing,\n",
    "                  verbose = 1,\n",
    "                  scoring='neg_mean_absolute_error',\n",
    "                  cv = skf)\n",
    "\n",
    "    \n",
    "gr.fit(X_train,y_train)\n",
    "print(gr.best_params_, gr.best_score_)\n",
    "best_estimator = gr.best_estimator_\n",
    "best_estimator"
   ]
  },
  {
   "cell_type": "markdown",
   "metadata": {},
   "source": [
    "**Run the Model**"
   ]
  },
  {
   "cell_type": "code",
   "execution_count": 76,
   "metadata": {
    "scrolled": true
   },
   "outputs": [
    {
     "name": "stdout",
     "output_type": "stream",
     "text": [
      "Fold: 1\n",
      "MAE Score: 0.00552613204299467\n",
      "Fold: 2\n",
      "MAE Score: 0.005570496704664072\n",
      "Fold: 3\n",
      "MAE Score: 0.005170285090474072\n",
      "Fold: 4\n",
      "MAE Score: 0.004807931286665127\n",
      "Fold: 5\n",
      "MAE Score: 0.004721706890118244\n",
      "Fold: 6\n",
      "MAE Score: 0.004772463730862663\n",
      "Fold: 7\n",
      "MAE Score: 0.004788863295688904\n",
      "Fold: 8\n",
      "MAE Score: 0.004722224930947511\n",
      "Fold: 9\n",
      "MAE Score: 0.004834967880335945\n",
      "Fold: 10\n",
      "MAE Score: 0.004473035977823363\n",
      "Fold: 1\n",
      "MAE Score: 0.005055286853573722\n",
      "Fold: 2\n",
      "MAE Score: 0.005064966768527265\n",
      "Fold: 3\n",
      "MAE Score: 0.0049512752446582665\n",
      "Fold: 4\n",
      "MAE Score: 0.004904971586086432\n",
      "Fold: 5\n",
      "MAE Score: 0.0049058130177048066\n",
      "Fold: 6\n",
      "MAE Score: 0.00490982275414021\n",
      "Fold: 7\n",
      "MAE Score: 0.004910324672172237\n",
      "Fold: 8\n",
      "MAE Score: 0.004916126847717779\n",
      "Fold: 9\n",
      "MAE Score: 0.004908901274765059\n",
      "Fold: 10\n",
      "MAE Score: 0.004890036136471974\n"
     ]
    }
   ],
   "source": [
    "lr = Lasso(alpha=0.01, random_state=42)\n",
    "\n",
    "\n",
    "# Test Score\n",
    "final_score = []\n",
    "# Stratified KFold\n",
    "skf = StratifiedKFold(n_splits=10, random_state=42, shuffle=False)\n",
    "for fold, (train_index, test_index) in enumerate(skf.split(X, y)):\n",
    "    print(\"Fold:\" , fold +1)\n",
    "    X_train, X_test = X.iloc[train_index], X.iloc[test_index]\n",
    "    y_train, y_test = y.iloc[train_index], y.iloc[test_index]\n",
    "    lr.fit(X_train,y_train)\n",
    "    predictions = lr.predict(X_test)\n",
    "    final_score.append(mean_absolute_error(y_test, predictions))\n",
    "    print(\"MAE Score:\" ,mean_absolute_error(y_test, predictions))    \n",
    "    \n",
    "lasso_test = np.mean(final_score)\n",
    "\n",
    "# Train Score\n",
    "final_score_train = []\n",
    "# Stratified KFold\n",
    "skf = StratifiedKFold(n_splits=10, random_state=42, shuffle=False)\n",
    "for fold, (train_index, test_index) in enumerate(skf.split(X, y)):\n",
    "    print(\"Fold:\" , fold +1)\n",
    "    X_train, X_test = X.iloc[train_index], X.iloc[test_index]\n",
    "    y_train, y_test = y.iloc[train_index], y.iloc[test_index]\n",
    "    lr.fit(X_train,y_train)\n",
    "    predictions = lr.predict(X_train)\n",
    "    final_score_train.append(mean_absolute_error(y_train, predictions))\n",
    "    print(\"MAE Score:\" ,mean_absolute_error(y_train, predictions))\n",
    "    \n",
    "lasso_train = np.mean(final_score_train)"
   ]
  },
  {
   "cell_type": "code",
   "execution_count": 77,
   "metadata": {
    "scrolled": true
   },
   "outputs": [
    {
     "data": {
      "text/plain": [
       "0.004941752515581775"
      ]
     },
     "execution_count": 77,
     "metadata": {},
     "output_type": "execute_result"
    }
   ],
   "source": [
    "lasso_train"
   ]
  },
  {
   "cell_type": "code",
   "execution_count": 78,
   "metadata": {},
   "outputs": [
    {
     "data": {
      "text/plain": [
       "0.0049388107830574575"
      ]
     },
     "execution_count": 78,
     "metadata": {},
     "output_type": "execute_result"
    }
   ],
   "source": [
    "lasso_test"
   ]
  },
  {
   "cell_type": "markdown",
   "metadata": {},
   "source": [
    "**Plot test accuracy vs. train accuracy**"
   ]
  },
  {
   "cell_type": "code",
   "execution_count": 79,
   "metadata": {
    "scrolled": false
   },
   "outputs": [
    {
     "data": {
      "image/png": "[encoded data removed]",
      "text/plain": [
       "<Figure size 576x396 with 1 Axes>"
      ]
     },
     "metadata": {},
     "output_type": "display_data"
    }
   ],
   "source": [
    "fig, ax = plt.subplots()\n",
    "ax.plot(final_score_train, '-b', label='train')\n",
    "ax.plot(final_score, '--r', label='test')\n",
    "leg = ax.legend();"
   ]
  },
  {
   "cell_type": "markdown",
   "metadata": {},
   "source": [
    "Our average train score is 0.99 and test score is 1.01. They are very close however test scores have high variance. And overfitting/underfitting situation changes from fold to fold. For example for fold 1 train data is underfitted but for fold \n",
    "7 train data is overfitted."
   ]
  },
  {
   "cell_type": "markdown",
   "metadata": {},
   "source": [
    "# Decision Tree"
   ]
  },
  {
   "cell_type": "markdown",
   "metadata": {},
   "source": [
    "**GridSearchCV for tuning Parameters**"
   ]
  },
  {
   "cell_type": "code",
   "execution_count": 80,
   "metadata": {},
   "outputs": [
    {
     "name": "stdout",
     "output_type": "stream",
     "text": [
      "Fitting 10 folds for each of 99 candidates, totalling 990 fits\n"
     ]
    },
    {
     "name": "stderr",
     "output_type": "stream",
     "text": [
      "[Parallel(n_jobs=1)]: Using backend SequentialBackend with 1 concurrent workers.\n"
     ]
    },
    {
     "name": "stdout",
     "output_type": "stream",
     "text": [
      "{'min_samples_leaf': 1} -0.0330188679245283\n"
     ]
    },
    {
     "name": "stderr",
     "output_type": "stream",
     "text": [
      "[Parallel(n_jobs=1)]: Done 990 out of 990 | elapsed:    5.4s finished\n"
     ]
    },
    {
     "data": {
      "text/plain": [
       "DecisionTreeClassifier(class_weight=None, criterion='gini', max_depth=4,\n",
       "                       max_features=None, max_leaf_nodes=None,\n",
       "                       min_impurity_decrease=0.0, min_impurity_split=None,\n",
       "                       min_samples_leaf=1, min_samples_split=2,\n",
       "                       min_weight_fraction_leaf=0.0, presort=False,\n",
       "                       random_state=42, splitter='best')"
      ]
     },
     "execution_count": 80,
     "metadata": {},
     "output_type": "execute_result"
    }
   ],
   "source": [
    "skf = StratifiedKFold(n_splits=10, random_state=42, shuffle=False)\n",
    "\n",
    "# We will try these parameters seperately because when tried together they do not give the best result\n",
    "param_testing_depth = {'max_depth':np.arange(1,100,1)}  \n",
    "# {'max_depth': 4} -0.0330188679245283\n",
    "param_testing_minsamples = {'min_samples_leaf':np.arange(1,100,1)}  ,\n",
    "# {'min_samples_leaf': 1} -0.0330188679245283\n",
    "\n",
    "gr = GridSearchCV(DecisionTreeClassifier(random_state=42,max_depth = 4),\n",
    "                  param_testing_minsamples,\n",
    "                  verbose = 1,\n",
    "                  scoring='neg_mean_absolute_error',\n",
    "                  cv = skf)\n",
    "\n",
    "    \n",
    "gr.fit(X_train,y_train)\n",
    "print(gr.best_params_, gr.best_score_)\n",
    "best_estimator = gr.best_estimator_\n",
    "best_estimator"
   ]
  },
  {
   "cell_type": "markdown",
   "metadata": {},
   "source": [
    "**Run the Model**"
   ]
  },
  {
   "cell_type": "code",
   "execution_count": 81,
   "metadata": {
    "scrolled": true
   },
   "outputs": [
    {
     "name": "stdout",
     "output_type": "stream",
     "text": [
      "Fold: 1\n",
      "MAE Score: 2.8157894736842106\n",
      "Fold: 2\n",
      "MAE Score: 2.8157894736842106\n",
      "Fold: 3\n",
      "MAE Score: 2.7432432432432434\n",
      "Fold: 4\n",
      "MAE Score: 2.7\n",
      "Fold: 5\n",
      "MAE Score: 2.6956521739130435\n",
      "Fold: 6\n",
      "MAE Score: 2.6956521739130435\n",
      "Fold: 7\n",
      "MAE Score: 2.661764705882353\n",
      "Fold: 8\n",
      "MAE Score: 2.6417910447761193\n",
      "Fold: 9\n",
      "MAE Score: 2.6417910447761193\n",
      "Fold: 10\n",
      "MAE Score: 2.5757575757575757\n",
      "Fold: 1\n",
      "MAE Score: 2.6884984025559104\n",
      "Fold: 2\n",
      "MAE Score: 2.6884984025559104\n",
      "Fold: 3\n",
      "MAE Score: 2.6974522292993632\n",
      "Fold: 4\n",
      "MAE Score: 2.7025316455696204\n",
      "Fold: 5\n",
      "MAE Score: 2.703001579778831\n",
      "Fold: 6\n",
      "MAE Score: 2.703001579778831\n",
      "Fold: 7\n",
      "MAE Score: 2.7066246056782335\n",
      "Fold: 8\n",
      "MAE Score: 2.7086614173228347\n",
      "Fold: 9\n",
      "MAE Score: 2.7086614173228347\n",
      "Fold: 10\n",
      "MAE Score: 2.7154088050314464\n"
     ]
    }
   ],
   "source": [
    "dt = DecisionTreeClassifier(random_state=42,max_depth=4,min_samples_leaf = 1)\n",
    "\n",
    "\n",
    "# Test Score\n",
    "final_score = []\n",
    "# Stratified KFold\n",
    "skf = StratifiedKFold(n_splits=10, random_state=42, shuffle=False)\n",
    "for fold, (train_index, test_index) in enumerate(skf.split(X, y)):\n",
    "    print(\"Fold:\" , fold +1)\n",
    "    X_train, X_test = X.iloc[train_index], X.iloc[test_index]\n",
    "    y_train, y_test = y.iloc[train_index], y.iloc[test_index]\n",
    "    dt.fit(X_train,y_train)\n",
    "    predictions = dt.predict_proba(X_test)[:,1]\n",
    "    final_score.append(mean_absolute_error(y_test, predictions))\n",
    "    print(\"MAE Score:\" ,mean_absolute_error(y_test, predictions))    \n",
    "    \n",
    "decision_test = np.mean(final_score)\n",
    "\n",
    "# Train Score\n",
    "final_score_train = []\n",
    "# Stratified KFold\n",
    "skf = StratifiedKFold(n_splits=10, random_state=42, shuffle=False)\n",
    "for fold, (train_index, test_index) in enumerate(skf.split(X, y)):\n",
    "    print(\"Fold:\" , fold +1)\n",
    "    X_train, X_test = X.iloc[train_index], X.iloc[test_index]\n",
    "    y_train, y_test = y.iloc[train_index], y.iloc[test_index]\n",
    "    dt.fit(X_train,y_train)\n",
    "    predictions = dt.predict_proba(X_train)[:,1]\n",
    "    final_score_train.append(mean_absolute_error(y_train, predictions))\n",
    "    print(\"MAE Score:\" ,mean_absolute_error(y_train, predictions))\n",
    "    \n",
    "decision_train = np.mean(final_score_train)"
   ]
  },
  {
   "cell_type": "markdown",
   "metadata": {},
   "source": [
    "**Plot test accuracy vs. train accuracy**"
   ]
  },
  {
   "cell_type": "code",
   "execution_count": 82,
   "metadata": {
    "scrolled": true
   },
   "outputs": [
    {
     "data": {
      "image/png": "[encoded data removed]",
      "text/plain": [
       "<Figure size 576x396 with 1 Axes>"
      ]
     },
     "metadata": {},
     "output_type": "display_data"
    }
   ],
   "source": [
    "fig, ax = plt.subplots()\n",
    "ax.plot(final_score_train, '-b', label='train')\n",
    "ax.plot(final_score, '--r', label='test')\n",
    "leg = ax.legend();"
   ]
  },
  {
   "cell_type": "markdown",
   "metadata": {},
   "source": [
    "Our mean train and test error rates are very close. Test error has high variance. We have only tuned max_depth and minimum samples in a leaf parameters  as requested in the question with GridSearchCV.The high variance could be due to the noise in our training data. Since most of the test scores are below out of 10 folds there is an inclination to overfitting for train data from fold 4-10."
   ]
  },
  {
   "cell_type": "markdown",
   "metadata": {},
   "source": [
    "# Random Forest"
   ]
  },
  {
   "cell_type": "markdown",
   "metadata": {},
   "source": [
    "**GridSearchCV for tuning Parameters**"
   ]
  },
  {
   "cell_type": "code",
   "execution_count": 83,
   "metadata": {},
   "outputs": [
    {
     "name": "stdout",
     "output_type": "stream",
     "text": [
      "Fitting 10 folds for each of 13 candidates, totalling 130 fits\n"
     ]
    },
    {
     "name": "stderr",
     "output_type": "stream",
     "text": [
      "[Parallel(n_jobs=1)]: Using backend SequentialBackend with 1 concurrent workers.\n",
      "[Parallel(n_jobs=1)]: Done 130 out of 130 | elapsed:  2.1min finished\n"
     ]
    },
    {
     "name": "stdout",
     "output_type": "stream",
     "text": [
      "{'max_features': 13} 0.9858490566037735\n"
     ]
    },
    {
     "data": {
      "text/plain": [
       "RandomForestClassifier(bootstrap=True, class_weight=None, criterion='gini',\n",
       "                       max_depth=9, max_features=13, max_leaf_nodes=None,\n",
       "                       min_impurity_decrease=0.0, min_impurity_split=None,\n",
       "                       min_samples_leaf=5, min_samples_split=2,\n",
       "                       min_weight_fraction_leaf=0.0, n_estimators=500,\n",
       "                       n_jobs=None, oob_score=False, random_state=0, verbose=0,\n",
       "                       warm_start=False)"
      ]
     },
     "execution_count": 83,
     "metadata": {},
     "output_type": "execute_result"
    }
   ],
   "source": [
    "skf = StratifiedKFold(n_splits=10, random_state=42, shuffle=False)\n",
    "\n",
    "# only asked to tune number of features to do a split\n",
    "# Max_features should be between 0,n_features(We have 14 features)\n",
    "param_testing_m = {'max_features':np.arange(1,14,1)}  \n",
    "# {'max_features': 11} 0.9921383647798742\n",
    "\n",
    "\n",
    "gr = GridSearchCV(RandomForestClassifier(max_depth=9, \n",
    "                                              random_state=0,\n",
    "                                              min_samples_leaf = 5,\n",
    "                                              n_estimators = 500)\n",
    "                  ,param_testing_m,\n",
    "                  verbose = 1,\n",
    "                  scoring='accuracy',\n",
    "                  cv = skf)\n",
    "\n",
    "    \n",
    "gr.fit(X_train,y_train)\n",
    "print(gr.best_params_, gr.best_score_)\n",
    "best_estimator = gr.best_estimator_\n",
    "best_estimator"
   ]
  },
  {
   "cell_type": "markdown",
   "metadata": {},
   "source": [
    "**Run the Model**"
   ]
  },
  {
   "cell_type": "code",
   "execution_count": 84,
   "metadata": {
    "scrolled": true
   },
   "outputs": [
    {
     "name": "stdout",
     "output_type": "stream",
     "text": [
      "Fold: 1\n",
      "MAE Score: 2.8357534404736042\n",
      "Fold: 2\n",
      "MAE Score: 2.8387919809319038\n",
      "Fold: 3\n",
      "MAE Score: 2.7636000609396505\n",
      "Fold: 4\n",
      "MAE Score: 2.7188827827973467\n",
      "Fold: 5\n",
      "MAE Score: 2.717805193971212\n",
      "Fold: 6\n",
      "MAE Score: 2.7171072790006194\n",
      "Fold: 7\n",
      "MAE Score: 2.689732384295951\n",
      "Fold: 8\n",
      "MAE Score: 2.665303558773118\n",
      "Fold: 9\n",
      "MAE Score: 2.6708441255190345\n",
      "Fold: 10\n",
      "MAE Score: 2.5958355550066146\n",
      "Fold: 1\n",
      "MAE Score: 2.7052271106749495\n",
      "Fold: 2\n",
      "MAE Score: 2.7046043637762462\n",
      "Fold: 3\n",
      "MAE Score: 2.7139876028500076\n",
      "Fold: 4\n",
      "MAE Score: 2.7195765070087163\n",
      "Fold: 5\n",
      "MAE Score: 2.7199410125874097\n",
      "Fold: 6\n",
      "MAE Score: 2.7176636587873455\n",
      "Fold: 7\n",
      "MAE Score: 2.7223792818381356\n",
      "Fold: 8\n",
      "MAE Score: 2.7261866546590583\n",
      "Fold: 9\n",
      "MAE Score: 2.7249543985580305\n",
      "Fold: 10\n",
      "MAE Score: 2.7315553941287596\n"
     ]
    }
   ],
   "source": [
    "rf = RandomForestClassifier(max_depth=9, random_state=0,min_samples_leaf = 5,n_estimators = 500,max_features = 11)\n",
    "\n",
    "\n",
    "# Test Score\n",
    "final_score = []\n",
    "# Stratified KFold\n",
    "skf = StratifiedKFold(n_splits=10, random_state=42, shuffle=False)\n",
    "for fold, (train_index, test_index) in enumerate(skf.split(X, y)):\n",
    "    print(\"Fold:\" , fold +1)\n",
    "    X_train, X_test = X.iloc[train_index], X.iloc[test_index]\n",
    "    y_train, y_test = y.iloc[train_index], y.iloc[test_index]\n",
    "    rf.fit(X_train,y_train)\n",
    "    predictions = rf.predict_proba(X_test)[:,1]\n",
    "    final_score.append(mean_absolute_error(y_test, predictions))\n",
    "    print(\"MAE Score:\" ,mean_absolute_error(y_test, predictions))    \n",
    "    \n",
    "random_test = np.mean(final_score)\n",
    "\n",
    "# Train Score\n",
    "final_score_train = []\n",
    "# Stratified KFold\n",
    "skf = StratifiedKFold(n_splits=10, random_state=42, shuffle=False)\n",
    "for fold, (train_index, test_index) in enumerate(skf.split(X, y)):\n",
    "    print(\"Fold:\" , fold +1)\n",
    "    X_train, X_test = X.iloc[train_index], X.iloc[test_index]\n",
    "    y_train, y_test = y.iloc[train_index], y.iloc[test_index]\n",
    "    rf.fit(X_train,y_train)\n",
    "    predictions = rf.predict_proba(X_train)[:,1]\n",
    "    final_score_train.append(mean_absolute_error(y_train, predictions))\n",
    "    print(\"MAE Score:\" ,mean_absolute_error(y_train, predictions))\n",
    "    \n",
    "random_train = np.mean(final_score_train)"
   ]
  },
  {
   "cell_type": "markdown",
   "metadata": {},
   "source": [
    "**Plot test accuracy vs. train accuracy**"
   ]
  },
  {
   "cell_type": "code",
   "execution_count": 85,
   "metadata": {},
   "outputs": [
    {
     "data": {
      "image/png": "[encoded data removed]",
      "text/plain": [
       "<Figure size 576x396 with 1 Axes>"
      ]
     },
     "metadata": {},
     "output_type": "display_data"
    }
   ],
   "source": [
    "fig, ax = plt.subplots()\n",
    "ax.plot(final_score_train, '-b', label='train')\n",
    "ax.plot(final_score, '--r', label='test')\n",
    "leg = ax.legend();"
   ]
  },
  {
   "cell_type": "markdown",
   "metadata": {},
   "source": [
    "Our mean train score is 2.7 and our mean test accuracy is 2.7. Test error has high variance again. The high variance could be due to the noise in our training data. However, since tree based models are not affected by scaling it is not due to neeed for scaling. For this we can say our model overfitted the train data which can be expected because we have about ~600 lines of data. And overfitting is expected for such small data. Again can be seen for most folds model overfitted train data."
   ]
  },
  {
   "cell_type": "markdown",
   "metadata": {},
   "source": [
    "# Stochastic Gradient Boosting (SGB):"
   ]
  },
  {
   "cell_type": "markdown",
   "metadata": {},
   "source": [
    "**GridSearchCV for tuning Parameters**"
   ]
  },
  {
   "cell_type": "code",
   "execution_count": 86,
   "metadata": {},
   "outputs": [
    {
     "name": "stdout",
     "output_type": "stream",
     "text": [
      "Fitting 10 folds for each of 2 candidates, totalling 20 fits\n"
     ]
    },
    {
     "name": "stderr",
     "output_type": "stream",
     "text": [
      "[Parallel(n_jobs=1)]: Using backend SequentialBackend with 1 concurrent workers.\n",
      "[Parallel(n_jobs=1)]: Done  20 out of  20 | elapsed:   38.1s finished\n"
     ]
    },
    {
     "name": "stdout",
     "output_type": "stream",
     "text": [
      "{'learning_rate': 0.01} 1.0\n"
     ]
    },
    {
     "data": {
      "text/plain": [
       "GradientBoostingClassifier(criterion='friedman_mse', init=None,\n",
       "                           learning_rate=0.01, loss='deviance', max_depth=1,\n",
       "                           max_features=None, max_leaf_nodes=None,\n",
       "                           min_impurity_decrease=0.0, min_impurity_split=None,\n",
       "                           min_samples_leaf=1, min_samples_split=2,\n",
       "                           min_weight_fraction_leaf=0.0, n_estimators=300,\n",
       "                           n_iter_no_change=None, presort='auto',\n",
       "                           random_state=42, subsample=1.0, tol=0.0001,\n",
       "                           validation_fraction=0.1, verbose=0,\n",
       "                           warm_start=False)"
      ]
     },
     "execution_count": 86,
     "metadata": {},
     "output_type": "execute_result"
    }
   ],
   "source": [
    "skf = StratifiedKFold(n_splits=10, random_state=42, shuffle=False)\n",
    "\n",
    "\n",
    "\n",
    "param_testing_depth = {'max_depth':np.arange(1,14,1)}  \n",
    "# {'max_depth': 1} 1.0\n",
    "param_testing_trees = {'n_estimators':np.arange(300,500,50)}\n",
    "# {'n_estimators': 300} 1.0\n",
    "param_testing_learning = {'learning_rate':np.arange(0.01,0.1,0.05)} \n",
    "# {'learning_rate': 0.01} 1.0\n",
    "\n",
    "\n",
    "\n",
    "gr = GridSearchCV(GradientBoostingClassifier(random_state=42, max_depth = 1, n_estimators = 300)\n",
    "                  ,param_testing_learning,\n",
    "                  verbose = 1,\n",
    "                  scoring='accuracy',\n",
    "                  cv = skf)\n",
    "\n",
    "    \n",
    "gr.fit(X_train,y_train)\n",
    "print(gr.best_params_, gr.best_score_)\n",
    "best_estimator = gr.best_estimator_\n",
    "best_estimator"
   ]
  },
  {
   "cell_type": "markdown",
   "metadata": {},
   "source": [
    "**Run the Model**"
   ]
  },
  {
   "cell_type": "code",
   "execution_count": 87,
   "metadata": {
    "scrolled": true
   },
   "outputs": [
    {
     "name": "stdout",
     "output_type": "stream",
     "text": [
      "Fold: 1\n",
      "MAE Score: 2.829147507596258\n",
      "Fold: 2\n",
      "MAE Score: 2.8291475075962573\n",
      "Fold: 3\n",
      "MAE Score: 2.757213200903954\n",
      "Fold: 4\n",
      "MAE Score: 2.7125010043015862\n",
      "Fold: 5\n",
      "MAE Score: 2.708469598666452\n",
      "Fold: 6\n",
      "MAE Score: 2.708469598666452\n",
      "Fold: 7\n",
      "MAE Score: 2.674916698137441\n",
      "Fold: 8\n",
      "MAE Score: 2.6552278574912114\n",
      "Fold: 9\n",
      "MAE Score: 2.655227857491211\n",
      "Fold: 10\n",
      "MAE Score: 2.5893980202425864\n",
      "Fold: 1\n",
      "MAE Score: 2.701500955858201\n",
      "Fold: 2\n",
      "MAE Score: 2.701500955858201\n",
      "Fold: 3\n",
      "MAE Score: 2.7105758649523386\n",
      "Fold: 4\n",
      "MAE Score: 2.715862601139398\n",
      "Fold: 5\n",
      "MAE Score: 2.7163139948263177\n",
      "Fold: 6\n",
      "MAE Score: 2.7163139948263177\n",
      "Fold: 7\n",
      "MAE Score: 2.720022070603466\n",
      "Fold: 8\n",
      "MAE Score: 2.7220344596571078\n",
      "Fold: 9\n",
      "MAE Score: 2.7220344596571078\n",
      "Fold: 10\n",
      "MAE Score: 2.72875222796747\n"
     ]
    }
   ],
   "source": [
    "gb = GradientBoostingClassifier(random_state=42,max_depth = 1,n_estimators = 350, learning_rate = 0.01)\n",
    "\n",
    "\n",
    "# Test Score\n",
    "final_score = []\n",
    "# Stratified KFold\n",
    "skf = StratifiedKFold(n_splits=10, random_state=42, shuffle=False)\n",
    "for fold, (train_index, test_index) in enumerate(skf.split(X, y)):\n",
    "    print(\"Fold:\" , fold +1)\n",
    "    X_train, X_test = X.iloc[train_index], X.iloc[test_index]\n",
    "    y_train, y_test = y.iloc[train_index], y.iloc[test_index]\n",
    "    gb.fit(X_train,y_train)\n",
    "    predictions = gb.predict_proba(X_test)[:,1]\n",
    "    final_score.append(mean_absolute_error(y_test, predictions))\n",
    "    print(\"MAE Score:\" ,mean_absolute_error(y_test, predictions))    \n",
    "    \n",
    "gradient_test = np.mean(final_score)\n",
    "\n",
    "# Train Score\n",
    "final_score_train = []\n",
    "# Stratified KFold\n",
    "skf = StratifiedKFold(n_splits=10, random_state=42, shuffle=False)\n",
    "for fold, (train_index, test_index) in enumerate(skf.split(X, y)):\n",
    "    print(\"Fold:\" , fold +1)\n",
    "    X_train, X_test = X.iloc[train_index], X.iloc[test_index]\n",
    "    y_train, y_test = y.iloc[train_index], y.iloc[test_index]\n",
    "    gb.fit(X_train,y_train)\n",
    "    predictions = gb.predict_proba(X_train)[:,1]\n",
    "    final_score_train.append(mean_absolute_error(y_train, predictions))\n",
    "    print(\"MAE Score:\" ,mean_absolute_error(y_train, predictions))\n",
    "    \n",
    "gradient_train = np.mean(final_score_train)"
   ]
  },
  {
   "cell_type": "markdown",
   "metadata": {},
   "source": [
    "**Plot test accuracy vs. train accuracy**"
   ]
  },
  {
   "cell_type": "code",
   "execution_count": 88,
   "metadata": {
    "scrolled": false
   },
   "outputs": [
    {
     "data": {
      "image/png": "[encoded data removed]",
      "text/plain": [
       "<Figure size 576x396 with 1 Axes>"
      ]
     },
     "metadata": {},
     "output_type": "display_data"
    }
   ],
   "source": [
    "fig, ax = plt.subplots()\n",
    "ax.plot(final_score_train, '-b', label='train')\n",
    "ax.plot(final_score, '--r', label='test')\n",
    "leg = ax.legend();"
   ]
  },
  {
   "cell_type": "markdown",
   "metadata": {},
   "source": [
    "Train error and test error are the same. Again there is overfitting over some folds of cross validation for example for fold 1 our test set seems to be overfitting but for fold 8 train set is overfitting. Test scores have high variance"
   ]
  },
  {
   "cell_type": "markdown",
   "metadata": {},
   "source": [
    "**Let's compare the results from all algorithms**"
   ]
  },
  {
   "cell_type": "code",
   "execution_count": 89,
   "metadata": {
    "scrolled": true
   },
   "outputs": [
    {
     "data": {
      "text/html": [
       "<div>\n",
       "<style scoped>\n",
       "    .dataframe tbody tr th:only-of-type {\n",
       "        vertical-align: middle;\n",
       "    }\n",
       "\n",
       "    .dataframe tbody tr th {\n",
       "        vertical-align: top;\n",
       "    }\n",
       "\n",
       "    .dataframe thead th {\n",
       "        text-align: right;\n",
       "    }\n",
       "</style>\n",
       "<table border=\"1\" class=\"dataframe\">\n",
       "  <thead>\n",
       "    <tr style=\"text-align: right;\">\n",
       "      <th></th>\n",
       "      <th>train</th>\n",
       "      <th>test</th>\n",
       "    </tr>\n",
       "  </thead>\n",
       "  <tbody>\n",
       "    <tr>\n",
       "      <th>Lasso</th>\n",
       "      <td>0.004942</td>\n",
       "      <td>0.004939</td>\n",
       "    </tr>\n",
       "    <tr>\n",
       "      <th>DecisionTree</th>\n",
       "      <td>2.702234</td>\n",
       "      <td>2.698723</td>\n",
       "    </tr>\n",
       "    <tr>\n",
       "      <th>RandomForest</th>\n",
       "      <td>2.718608</td>\n",
       "      <td>2.721366</td>\n",
       "    </tr>\n",
       "    <tr>\n",
       "      <th>GradientBoosting</th>\n",
       "      <td>2.715491</td>\n",
       "      <td>2.711972</td>\n",
       "    </tr>\n",
       "  </tbody>\n",
       "</table>\n",
       "</div>"
      ],
      "text/plain": [
       "                     train      test\n",
       "Lasso             0.004942  0.004939\n",
       "DecisionTree      2.702234  2.698723\n",
       "RandomForest      2.718608  2.721366\n",
       "GradientBoosting  2.715491  2.711972"
      ]
     },
     "execution_count": 89,
     "metadata": {},
     "output_type": "execute_result"
    }
   ],
   "source": [
    "# Add train and test scores for all Algorithms\n",
    "regression_algorithm_df = pd.DataFrame(data = {\"train\":[lasso_train,decision_train,random_train,gradient_train],\n",
    "                                                   \"test\":[lasso_test,decision_test,random_test,gradient_test]})\n",
    "regression_algorithm_df.index = [\"Lasso\",\"DecisionTree\",\"RandomForest\",\"GradientBoosting\"]\n",
    "regression_algorithm_df"
   ]
  },
  {
   "cell_type": "markdown",
   "metadata": {},
   "source": [
    "We see that Lasso Regression lowest error. Since we have a handful of data complex models werent expected to yield better results and they didn't. For classification and regression problems we have observed that a simple logistic regression model worked best. Models other than Lasso are very close in scores.There is still improvement for models especially with high variances of test sets even though the mean scores of test and train sets are very close. Options are to use a higher regularization, scale/normalize data,use a different metric... We have used accuracy for classification and mean absolute error for regression.Since our target is not imbalanced accuracy will work for us and give the ratio of true predictions to total predictions. We could have used RMSE for regression as a metric but it would not make a difference for our results. Since Lasso is the leading algorithm by far and the other are almost identical."
   ]
  }
 ],
 "metadata": {
  "kernelspec": {
   "display_name": "Python 3",
   "language": "python",
   "name": "python3"
  },
  "language_info": {
   "codemirror_mode": {
    "name": "ipython",
    "version": 3
   },
   "file_extension": ".py",
   "mimetype": "text/x-python",
   "name": "python",
   "nbconvert_exporter": "python",
   "pygments_lexer": "ipython3",
   "version": "3.7.5"
  }
 },
 "nbformat": 4,
 "nbformat_minor": 2
}
